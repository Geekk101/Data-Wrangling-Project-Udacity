{
 "cells": [
  {
   "cell_type": "markdown",
   "metadata": {
    "id": "GNIwe5N7s0e_"
   },
   "source": [
    "# Real-world Data Wrangling"
   ]
  },
  {
   "cell_type": "markdown",
   "metadata": {
    "id": "_BG63Tpg8ep_"
   },
   "source": [
    "In this project, you will apply the skills you acquired in the course to gather and wrangle real-world data with two datasets of your choice.\n",
    "\n",
    "You will retrieve and extract the data, assess the data programmatically and visually, accross elements of data quality and structure, and implement a cleaning strategy for the data. You will then store the updated data into your selected database/data store, combine the data, and answer a research question with the datasets.\n",
    "\n",
    "Throughout the process, you are expected to:\n",
    "\n",
    "1. Explain your decisions towards methods used for gathering, assessing, cleaning, storing, and answering the research question\n",
    "2. Write code comments so your code is more readable\n"
   ]
  },
  {
   "cell_type": "code",
   "execution_count": 1,
   "metadata": {},
   "outputs": [],
   "source": [
    "# Libraries Import\n",
    "import zipfile\n",
    "import pandas as pd\n",
    "import os\n",
    "import requests\n",
    "from io import StringIO\n",
    "#import seaborn as sns\n",
    "import matplotlib.pyplot as plt\n"
   ]
  },
  {
   "cell_type": "markdown",
   "metadata": {
    "id": "lDYDkH-Zs7Nn"
   },
   "source": [
    "## 1. Gather data"
   ]
  },
  {
   "cell_type": "markdown",
   "metadata": {
    "id": "LbN7z7rcuqpO"
   },
   "source": [
    "### **1.1.** Problem Statement\n",
    "\n",
    "Two data sets were chosen:\n",
    "*    *Breast Cancer Wisconsin (Diagnostic) Dataset*\n",
    "*    *Wine Quality Dataset (Red Wine)*\n",
    "\n",
    "**Breast Cancer Wisconsin (Diagnostic) Dataset Intro:**\n",
    "\n",
    "*To utilize the Breast Cancer Wisconsin (Diagnostic) Dataset to build a predictive model that classifies breast tumors as either malignant or benign based on features such as tumor radius, texture, perimeter, area, and other metrics. The objective is to develop a robust machine learning algorithm capable of accurately diagnosing breast cancer at an early stage, thereby \n",
    "facilitating timely medical intervention and improving patient outcomes.*\n",
    "###### Problem Statement:\n",
    "*How do the key features of breast tumors differ between malignant and benign cases based on the Breast Cancer Wisconsin (Diagnostic) Dataset?*\n",
    "\n",
    "\n",
    "\n",
    "\n",
    "\n",
    "**Wine Quality Dataset Intro:**\n",
    "\n",
    "*To analyze chemical factors influencing red wine quality using the Wine Quality Dataset. Leveraging web scraping and Pandas for data extraction and manipulation, the goal is to build a predictive model that accurately assesses wine quality based on key attributes such as acidity levels, residual sugar, sulfur dioxide content, density, pH, sulphates, alcohol percentage, and sensory quality scores.*"
   ]
  },
  {
   "cell_type": "markdown",
   "metadata": {
    "id": "8AQfBAdUypMm"
   },
   "source": [
    "### **1.2.** Gather at least two datasets using two different data gathering methods\n",
    "\n"
   ]
  },
  {
   "cell_type": "markdown",
   "metadata": {
    "id": "7e6gS0wL1KTu"
   },
   "source": [
    "#### Breast Cancer Wisconsin (Diagnostic) Dataset\n",
    "The Breast Cancer Wisconsin (Diagnostic) Dataset is chosen for its relevance to breast cancer research. It provides data on various features derived from digitized images of breast tissue, which can aid in early detection and non-metastatic diagnosis.\n",
    "\n",
    "Why chose Breast Cancer Diagnostic Dataset and method: *I chose this Dataset due to its clinical relevance in addressing global breast cancer concerns and its suitability for applying machine learning techniques in diagnostic and predictive modeling. I chose manual extraction via Python to maintain control over data preprocessing*\n",
    "\n",
    "Rows and Columns: *It contains 569 rows upon 33 columns*\n",
    "\n",
    "Type: *CSV file* \n",
    "\n",
    "Method: *Download data manually*\n",
    "\n",
    "Dataset variables:\n",
    "\n",
    "*    *id: Identifier for each sample.*\n",
    "*    *diagnosis: Diagnosis of the sample, either 'M' (malignant) or 'B' (benign).*\n",
    "*    *radius_mean: Mean of distances from center to points on the perimeter.*\n",
    "*    *texture_mean: Standard deviation of gray-scale values.*\n",
    "*    *perimeter_mean: Mean size of the core tumor.*\n",
    "*    *area_mean: Area of the tumor.*\n",
    "*    *smoothness_mean: Local variation in radius lengths.*\n",
    "*    *compactness_mean: Perimeter^2 / area - 1.0.*\n",
    "*    *concavity_mean: Severity of concave portions of the contour.*\n",
    "*    *concave points_mean: Number of concave portions of the contour.*\n",
    "*    *symmetry_mean: Symmetry of the tumor.*\n",
    "*    *fractal_dimension_mean: \"Coastline approximation\" - 1.*\n",
    "*    *radius_se: Standard error of the mean of distances from center to points on the perimeter.*\n",
    "*    *texture_se: Standard error of gray-scale values.\n",
    "*    *perimeter_se: Standard error of the core tumor size.*\n",
    "*    *area_se: Standard error of the tumor area.*\n",
    "*    *smoothness_se: Standard error of local variation in radius lengths.*\n",
    "*    *compactness_se: Standard error of perimeter^2 / area - 1.0.*\n",
    "*    *concavity_se: Standard error of severity of concave portions of the contour.*\n",
    "*    *concave points_se: Standard error for number of concave portions of the contour.*\n",
    "*    *symmetry_se: Standard error for symmetry of the tumor.*\n",
    "*    *fractal_dimension_se: Standard error for \"coastline approximation\" - 1.*\n",
    "*    *radius_worst: \"Worst\" or largest mean value of distances from center to points on the perimeter.*\n",
    "*    *texture_worst: \"Worst\" or largest standard deviation of gray-scale values.*\n",
    "*    *perimeter_worst: \"Worst\" or largest perimeter of the core tumor.*\n",
    "*    *area_worst: \"Worst\" or largest area of the tumor.*\n",
    "*    *smoothness_worst: \"Worst\" or largest local variation in radius lengths.*\n",
    "*    *compactness_worst: \"Worst\" or largest perimeter^2 / area - 1.0.*\n",
    "*    *concavity_worst: \"Worst\" or largest severity of concave portions of the contour.*\n",
    "*    *concave points_worst: \"Worst\" or largest number of concave portions of the contour.*\n",
    "*    *symmetry_worst: \"Worst\" or largest symmetry of the tumor.*\n",
    "*    *fractal_dimension_worst: \"Worst\" or largest \"coastline approximation\" - 1.*\n",
    "*    *Unnamed: 32: This column appears to be unnamed and may require further investigation or may not be relevant to the dataset.*"
   ]
  },
  {
   "cell_type": "code",
   "execution_count": 2,
   "metadata": {
    "id": "Su8E0uLuYkHU"
   },
   "outputs": [
    {
     "data": {
      "text/html": [
       "<div>\n",
       "<style scoped>\n",
       "    .dataframe tbody tr th:only-of-type {\n",
       "        vertical-align: middle;\n",
       "    }\n",
       "\n",
       "    .dataframe tbody tr th {\n",
       "        vertical-align: top;\n",
       "    }\n",
       "\n",
       "    .dataframe thead th {\n",
       "        text-align: right;\n",
       "    }\n",
       "</style>\n",
       "<table border=\"1\" class=\"dataframe\">\n",
       "  <thead>\n",
       "    <tr style=\"text-align: right;\">\n",
       "      <th></th>\n",
       "      <th>I_D</th>\n",
       "      <th>diagnosis</th>\n",
       "      <th>radius_mean</th>\n",
       "      <th>texture_mean</th>\n",
       "      <th>smoothness_mean</th>\n",
       "      <th>compactness_mean</th>\n",
       "      <th>concavity_mean</th>\n",
       "      <th>concave points_mean</th>\n",
       "      <th>symmetry_mean</th>\n",
       "      <th>fractal_dimension_mean</th>\n",
       "      <th>...</th>\n",
       "      <th>texture_worst</th>\n",
       "      <th>perimeter_worst</th>\n",
       "      <th>smoothness_worst</th>\n",
       "      <th>compactness_worst</th>\n",
       "      <th>concavity_worst</th>\n",
       "      <th>concave points_worst</th>\n",
       "      <th>symmetry_worst</th>\n",
       "      <th>fractal_dimension_worst</th>\n",
       "      <th>Unnamed: 32</th>\n",
       "      <th>perimeter_area_mean</th>\n",
       "    </tr>\n",
       "  </thead>\n",
       "  <tbody>\n",
       "    <tr>\n",
       "      <th>0</th>\n",
       "      <td>842302</td>\n",
       "      <td>M</td>\n",
       "      <td>17.99</td>\n",
       "      <td>10.38</td>\n",
       "      <td>0.11840</td>\n",
       "      <td>0.27760</td>\n",
       "      <td>0.3001</td>\n",
       "      <td>0.14710</td>\n",
       "      <td>0.2419</td>\n",
       "      <td>0.07871</td>\n",
       "      <td>...</td>\n",
       "      <td>17.33</td>\n",
       "      <td>184.60</td>\n",
       "      <td>0.1622</td>\n",
       "      <td>0.6656</td>\n",
       "      <td>0.7119</td>\n",
       "      <td>0.2654</td>\n",
       "      <td>0.4601</td>\n",
       "      <td>0.11890</td>\n",
       "      <td>NaN</td>\n",
       "      <td>122.8-1001.0</td>\n",
       "    </tr>\n",
       "    <tr>\n",
       "      <th>1</th>\n",
       "      <td>842517</td>\n",
       "      <td>M</td>\n",
       "      <td>20.57</td>\n",
       "      <td>17.77</td>\n",
       "      <td>0.08474</td>\n",
       "      <td>0.07864</td>\n",
       "      <td>0.0869</td>\n",
       "      <td>0.07017</td>\n",
       "      <td>0.1812</td>\n",
       "      <td>0.05667</td>\n",
       "      <td>...</td>\n",
       "      <td>23.41</td>\n",
       "      <td>158.80</td>\n",
       "      <td>0.1238</td>\n",
       "      <td>0.1866</td>\n",
       "      <td>0.2416</td>\n",
       "      <td>0.1860</td>\n",
       "      <td>0.2750</td>\n",
       "      <td>0.08902</td>\n",
       "      <td>NaN</td>\n",
       "      <td>132.9-1326.0</td>\n",
       "    </tr>\n",
       "    <tr>\n",
       "      <th>2</th>\n",
       "      <td>84300903</td>\n",
       "      <td>M</td>\n",
       "      <td>19.69</td>\n",
       "      <td>21.25</td>\n",
       "      <td>0.10960</td>\n",
       "      <td>0.15990</td>\n",
       "      <td>0.1974</td>\n",
       "      <td>0.12790</td>\n",
       "      <td>0.2069</td>\n",
       "      <td>0.05999</td>\n",
       "      <td>...</td>\n",
       "      <td>25.53</td>\n",
       "      <td>152.50</td>\n",
       "      <td>0.1444</td>\n",
       "      <td>0.4245</td>\n",
       "      <td>0.4504</td>\n",
       "      <td>0.2430</td>\n",
       "      <td>0.3613</td>\n",
       "      <td>0.08758</td>\n",
       "      <td>NaN</td>\n",
       "      <td>130.0-1203.0</td>\n",
       "    </tr>\n",
       "    <tr>\n",
       "      <th>3</th>\n",
       "      <td>84348301</td>\n",
       "      <td>M</td>\n",
       "      <td>11.42</td>\n",
       "      <td>20.38</td>\n",
       "      <td>0.14250</td>\n",
       "      <td>0.28390</td>\n",
       "      <td>0.2414</td>\n",
       "      <td>0.10520</td>\n",
       "      <td>0.2597</td>\n",
       "      <td>0.09744</td>\n",
       "      <td>...</td>\n",
       "      <td>26.50</td>\n",
       "      <td>98.87</td>\n",
       "      <td>0.2098</td>\n",
       "      <td>0.8663</td>\n",
       "      <td>0.6869</td>\n",
       "      <td>0.2575</td>\n",
       "      <td>0.6638</td>\n",
       "      <td>0.17300</td>\n",
       "      <td>NaN</td>\n",
       "      <td>77.58-386.1</td>\n",
       "    </tr>\n",
       "    <tr>\n",
       "      <th>4</th>\n",
       "      <td>84358402</td>\n",
       "      <td>M</td>\n",
       "      <td>20.29</td>\n",
       "      <td>14.34</td>\n",
       "      <td>0.10030</td>\n",
       "      <td>0.13280</td>\n",
       "      <td>0.1980</td>\n",
       "      <td>0.10430</td>\n",
       "      <td>0.1809</td>\n",
       "      <td>0.05883</td>\n",
       "      <td>...</td>\n",
       "      <td>16.67</td>\n",
       "      <td>152.20</td>\n",
       "      <td>0.1374</td>\n",
       "      <td>0.2050</td>\n",
       "      <td>0.4000</td>\n",
       "      <td>0.1625</td>\n",
       "      <td>0.2364</td>\n",
       "      <td>0.07678</td>\n",
       "      <td>NaN</td>\n",
       "      <td>135.1-1297.0</td>\n",
       "    </tr>\n",
       "  </tbody>\n",
       "</table>\n",
       "<p>5 rows × 31 columns</p>\n",
       "</div>"
      ],
      "text/plain": [
       "        I_D diagnosis  radius_mean  texture_mean  smoothness_mean  \\\n",
       "0    842302         M        17.99         10.38          0.11840   \n",
       "1    842517         M        20.57         17.77          0.08474   \n",
       "2  84300903         M        19.69         21.25          0.10960   \n",
       "3  84348301         M        11.42         20.38          0.14250   \n",
       "4  84358402         M        20.29         14.34          0.10030   \n",
       "\n",
       "   compactness_mean  concavity_mean  concave points_mean symmetry_mean  \\\n",
       "0           0.27760          0.3001              0.14710        0.2419   \n",
       "1           0.07864          0.0869              0.07017        0.1812   \n",
       "2           0.15990          0.1974              0.12790        0.2069   \n",
       "3           0.28390          0.2414              0.10520        0.2597   \n",
       "4           0.13280          0.1980              0.10430        0.1809   \n",
       "\n",
       "   fractal_dimension_mean  ...  texture_worst  perimeter_worst  \\\n",
       "0                 0.07871  ...          17.33           184.60   \n",
       "1                 0.05667  ...          23.41           158.80   \n",
       "2                 0.05999  ...          25.53           152.50   \n",
       "3                 0.09744  ...          26.50            98.87   \n",
       "4                 0.05883  ...          16.67           152.20   \n",
       "\n",
       "   smoothness_worst  compactness_worst  concavity_worst  concave points_worst  \\\n",
       "0            0.1622             0.6656           0.7119                0.2654   \n",
       "1            0.1238             0.1866           0.2416                0.1860   \n",
       "2            0.1444             0.4245           0.4504                0.2430   \n",
       "3            0.2098             0.8663           0.6869                0.2575   \n",
       "4            0.1374             0.2050           0.4000                0.1625   \n",
       "\n",
       "   symmetry_worst  fractal_dimension_worst  Unnamed: 32  perimeter_area_mean  \n",
       "0          0.4601                  0.11890          NaN         122.8-1001.0  \n",
       "1          0.2750                  0.08902          NaN         132.9-1326.0  \n",
       "2          0.3613                  0.08758          NaN         130.0-1203.0  \n",
       "3          0.6638                  0.17300          NaN          77.58-386.1  \n",
       "4          0.2364                  0.07678          NaN         135.1-1297.0  \n",
       "\n",
       "[5 rows x 31 columns]"
      ]
     },
     "execution_count": 2,
     "metadata": {},
     "output_type": "execute_result"
    }
   ],
   "source": [
    "# Load CSV data into Pandas DataFrame\n",
    "df = pd.read_csv('data.csv')\n",
    "\n",
    "# Process the data\n",
    "df.head()"
   ]
  },
  {
   "cell_type": "markdown",
   "metadata": {
    "id": "hoUjq1tPzz7P"
   },
   "source": [
    "#### Wine Quality Dataset (Red Wine)\n",
    "The dataset is hosted on the UCI Machine Learning Repository and focuses on red wine characteristics.\n",
    "\n",
    "Type: *Web-based Extraction* (CSV File.)\n",
    "\n",
    "Method: *CSV data directly from the URL*\n",
    "\n",
    "Why Choose the Wine Quality Dataset and Method: *The Wine Quality Dataset was chosen for its relevance to understanding key chemical factors affecting red wine quality, facilitating insights into production and consumer preferences. Using web scraping and Pandas DataFrame allows for efficient extraction and analysis of data, supporting thorough exploration and predictive modeling tasks with real-time updates and flexible data manipulation capabilities.*\n",
    "\n",
    "Rows and Columns: *The dataset was originally composed of 1599 rows and 12 columns, but for faster processing, it was limited to 501 rows.*\n",
    "\n",
    "Dataset variables:\n",
    "\n",
    "*    *Fixed acidity: Fixed acidity is a measure of non-volatile acids in wine, and it's an important factor in wine taste.*\n",
    "\n",
    "*    *Volatile acidity: Volatile acidity refers to the presence of acetic acid in wine, which can lead to an unpleasant vinegar taste.*\n",
    "\n",
    "*    *Citric acid: Citric acid is often added to wines to give them a fresh flavor.*\n",
    "\n",
    "*    *Residual sugar: Residual sugar refers to the amount of sugar remaining after fermentation stops.*\n",
    "\n",
    "*    *Chlorides: Chlorides are a measure of the salt content in the wine.*\n",
    "\n",
    "*    *Free sulfur dioxide: Free sulfur dioxide prevents microbial growth and oxidation in wine.*\n",
    "\n",
    "*    *Total sulfur dioxide: Total sulfur dioxide is the total amount of sulfur dioxide in the wine.*\n",
    "\n",
    "*    *Density: Density is the mass per unit volume of the wine.*\n",
    "\n",
    "*   *pH: pH is a measure of acidity or basicity in wine.*\n",
    "\n",
    "*    *Sulphates: Sulphates contribute to sulfur dioxide levels in wine and can act as an antimicrobial and antioxidant agent.*\n",
    "\n",
    "*    *Alcohol: Alcohol percentage in the wine.*\n",
    "\n",
    "*    *Quality (score between 0 and 10): The quality score is based on sensory data, and it is the target variable in regression tasks.*"
   ]
  },
  {
   "cell_type": "code",
   "execution_count": 3,
   "metadata": {
    "id": "6zT0QxRyYmm7"
   },
   "outputs": [
    {
     "data": {
      "text/html": [
       "<div>\n",
       "<style scoped>\n",
       "    .dataframe tbody tr th:only-of-type {\n",
       "        vertical-align: middle;\n",
       "    }\n",
       "\n",
       "    .dataframe tbody tr th {\n",
       "        vertical-align: top;\n",
       "    }\n",
       "\n",
       "    .dataframe thead th {\n",
       "        text-align: right;\n",
       "    }\n",
       "</style>\n",
       "<table border=\"1\" class=\"dataframe\">\n",
       "  <thead>\n",
       "    <tr style=\"text-align: right;\">\n",
       "      <th></th>\n",
       "      <th>fixed acidity</th>\n",
       "      <th>volatile acidity</th>\n",
       "      <th>citric acid</th>\n",
       "      <th>residual sugar</th>\n",
       "      <th>chlorides</th>\n",
       "      <th>free sulfur dioxide</th>\n",
       "      <th>total sulfur dioxide</th>\n",
       "      <th>density</th>\n",
       "      <th>pH</th>\n",
       "      <th>sulphates</th>\n",
       "      <th>alcohol</th>\n",
       "      <th>quality</th>\n",
       "    </tr>\n",
       "  </thead>\n",
       "  <tbody>\n",
       "    <tr>\n",
       "      <th>0</th>\n",
       "      <td>7.4</td>\n",
       "      <td>0.70</td>\n",
       "      <td>0.00</td>\n",
       "      <td>1.9</td>\n",
       "      <td>0.076</td>\n",
       "      <td>11.0</td>\n",
       "      <td>34</td>\n",
       "      <td>0.9978</td>\n",
       "      <td>3.51</td>\n",
       "      <td>0.56</td>\n",
       "      <td>9.4</td>\n",
       "      <td>5</td>\n",
       "    </tr>\n",
       "    <tr>\n",
       "      <th>1</th>\n",
       "      <td>7.8</td>\n",
       "      <td>0.88</td>\n",
       "      <td>0.00</td>\n",
       "      <td>2.6</td>\n",
       "      <td>0.098</td>\n",
       "      <td>25.0</td>\n",
       "      <td>67</td>\n",
       "      <td>0.9968</td>\n",
       "      <td>3.20</td>\n",
       "      <td>0.68</td>\n",
       "      <td>9.8</td>\n",
       "      <td>5</td>\n",
       "    </tr>\n",
       "    <tr>\n",
       "      <th>2</th>\n",
       "      <td>7.8</td>\n",
       "      <td>0.76</td>\n",
       "      <td>0.04</td>\n",
       "      <td>2.3</td>\n",
       "      <td>0.092</td>\n",
       "      <td>15.0</td>\n",
       "      <td>54</td>\n",
       "      <td>0.9970</td>\n",
       "      <td>3.26</td>\n",
       "      <td>0.65</td>\n",
       "      <td>9.8</td>\n",
       "      <td>5</td>\n",
       "    </tr>\n",
       "    <tr>\n",
       "      <th>3</th>\n",
       "      <td>11.2</td>\n",
       "      <td>0.28</td>\n",
       "      <td>0.56</td>\n",
       "      <td>1.9</td>\n",
       "      <td>0.075</td>\n",
       "      <td>17.0</td>\n",
       "      <td>60</td>\n",
       "      <td>0.9980</td>\n",
       "      <td>3.16</td>\n",
       "      <td>0.58</td>\n",
       "      <td>9.8</td>\n",
       "      <td>6</td>\n",
       "    </tr>\n",
       "    <tr>\n",
       "      <th>4</th>\n",
       "      <td>7.4</td>\n",
       "      <td>0.70</td>\n",
       "      <td>0.00</td>\n",
       "      <td>1.9</td>\n",
       "      <td>0.076</td>\n",
       "      <td>11.0</td>\n",
       "      <td>34</td>\n",
       "      <td>0.9978</td>\n",
       "      <td>3.51</td>\n",
       "      <td>0.56</td>\n",
       "      <td>9.4</td>\n",
       "      <td>5</td>\n",
       "    </tr>\n",
       "  </tbody>\n",
       "</table>\n",
       "</div>"
      ],
      "text/plain": [
       "   fixed acidity  volatile acidity  citric acid  residual sugar  chlorides  \\\n",
       "0            7.4              0.70         0.00             1.9      0.076   \n",
       "1            7.8              0.88         0.00             2.6      0.098   \n",
       "2            7.8              0.76         0.04             2.3      0.092   \n",
       "3           11.2              0.28         0.56             1.9      0.075   \n",
       "4            7.4              0.70         0.00             1.9      0.076   \n",
       "\n",
       "   free sulfur dioxide  total sulfur dioxide  density    pH  sulphates  \\\n",
       "0                 11.0                    34   0.9978  3.51       0.56   \n",
       "1                 25.0                    67   0.9968  3.20       0.68   \n",
       "2                 15.0                    54   0.9970  3.26       0.65   \n",
       "3                 17.0                    60   0.9980  3.16       0.58   \n",
       "4                 11.0                    34   0.9978  3.51       0.56   \n",
       "\n",
       "   alcohol  quality  \n",
       "0      9.4        5  \n",
       "1      9.8        5  \n",
       "2      9.8        5  \n",
       "3      9.8        6  \n",
       "4      9.4        5  "
      ]
     },
     "execution_count": 3,
     "metadata": {},
     "output_type": "execute_result"
    }
   ],
   "source": [
    "def load_csv_to_dataframe(url, nrows=None):\n",
    "    # Send an HTTP GET request to the URL\n",
    "    response = requests.get(url)\n",
    "    \n",
    "    # Check if the request was successful (status code 200)\n",
    "    if response.status_code == 200:\n",
    "        # Read the content of the response into a pandas DataFrame, limiting rows if specified\n",
    "        if nrows:\n",
    "            csv_content = StringIO(response.text)\n",
    "            df = pd.read_csv(csv_content, sep=';', nrows=nrows)\n",
    "        else:\n",
    "            df = pd.read_csv(StringIO(response.text), sep=';')\n",
    "        \n",
    "        return df\n",
    "    else:\n",
    "        print(f\"Failed to retrieve data from {url}. Status code: {response.status_code}\")\n",
    "        return None\n",
    "\n",
    "# Example usage:\n",
    "url = 'https://archive.ics.uci.edu/ml/machine-learning-databases/wine-quality/winequality-red.csv'\n",
    "wine_data = load_csv_to_dataframe(url, nrows=501)  # Limiting to 100 rows for demonstration\n",
    "\n",
    "# Display the first few rows of the DataFrame\n",
    "wine_data.head()\n",
    "\n"
   ]
  },
  {
   "cell_type": "markdown",
   "metadata": {
    "id": "QwSWIVmotLgV"
   },
   "source": [
    "## 2. Assess data\n",
    "\n",
    "Assess the data according to data quality and tidiness metrics using the report below.\n",
    "\n",
    "List **two** data quality issues and **two** tidiness issues. Assess each data issue visually **and** programmatically, then briefly describe the issue you find.  **Make sure you include justifications for the methods you use for the assessment.**"
   ]
  },
  {
   "cell_type": "markdown",
   "metadata": {
    "id": "adaK2iPNzVu4"
   },
   "source": [
    "### Quality Issue 1:"
   ]
  },
  {
   "cell_type": "markdown",
   "metadata": {},
   "source": [
    "#### Column called \"Unnamed\""
   ]
  },
  {
   "cell_type": "code",
   "execution_count": 8,
   "metadata": {},
   "outputs": [
    {
     "name": "stdout",
     "output_type": "stream",
     "text": [
      "No valid data to plot for column 'Unnamed: 32' after considering NaN values.\n"
     ]
    }
   ],
   "source": [
    "#FILL IN - Inspecting the dataframe visually\n",
    "\n",
    "# Analyze Unnamed: 32 column\n",
    "column_to_analyze = 'Unnamed: 32'\n",
    "# Check if the column exists and contains numeric data\n",
    "if column_to_analyze in df.columns and pd.api.types.is_numeric_dtype(df[column_to_analyze]):\n",
    "    # Create a mask to filter out NaN values for plotting\n",
    "    mask = ~df[column_to_analyze].isna()\n",
    "\n",
    "    # Check if there is any data to plot after filtering NaN values\n",
    "    if mask.any():\n",
    "        # Create the histogram using Matplotlib\n",
    "        plt.figure(figsize=(8, 6))\n",
    "        plt.hist(df[column_to_analyze][mask], bins=20, edgecolor='black', alpha=0.7)\n",
    "        plt.title(f\"Distribution of {column_to_analyze}\")\n",
    "        plt.xlabel(column_to_analyze)\n",
    "        plt.ylabel(\"Frequency\")\n",
    "        plt.grid(True)\n",
    "        plt.show()\n",
    "    else:\n",
    "        print(f\"No valid data to plot for column '{column_to_analyze}'.\")\n",
    "else:\n",
    "    print(f\"Column '{column_to_analyze}' does not contain numeric data.\")"
   ]
  },
  {
   "cell_type": "markdown",
   "metadata": {},
   "source": [
    "The Histogram shows no data in that column."
   ]
  },
  {
   "cell_type": "code",
   "execution_count": 6,
   "metadata": {
    "id": "-qfcocStzsKg"
   },
   "outputs": [
    {
     "name": "stdout",
     "output_type": "stream",
     "text": [
      "<class 'pandas.core.frame.DataFrame'>\n",
      "RangeIndex: 569 entries, 0 to 568\n",
      "Data columns (total 32 columns):\n",
      " #   Column                   Non-Null Count  Dtype  \n",
      "---  ------                   --------------  -----  \n",
      " 0   I_D                      569 non-null    int64  \n",
      " 1   diagnosis                569 non-null    object \n",
      " 2   radius_mean              569 non-null    float64\n",
      " 3   texture_mean             569 non-null    float64\n",
      " 4   smoothness_mean          569 non-null    float64\n",
      " 5   compactness_mean         569 non-null    float64\n",
      " 6   concavity_mean           569 non-null    float64\n",
      " 7   concave points_mean      569 non-null    float64\n",
      " 8   symmetry_mean            569 non-null    object \n",
      " 9   fractal_dimension_mean   569 non-null    float64\n",
      " 10  radius_se                569 non-null    float64\n",
      " 11  texture_se               569 non-null    float64\n",
      " 12  perimeter_se             569 non-null    float64\n",
      " 13  area_se                  569 non-null    float64\n",
      " 14  smoothness_se            569 non-null    float64\n",
      " 15  compactness_se           569 non-null    float64\n",
      " 16  concavity_se             569 non-null    float64\n",
      " 17  concave points_se        569 non-null    float64\n",
      " 18  symmetry_se              569 non-null    float64\n",
      " 19  fractal_dimension_se     569 non-null    float64\n",
      " 20  radius_worst             569 non-null    float64\n",
      " 21  texture_worst            569 non-null    float64\n",
      " 22  perimeter_worst          569 non-null    float64\n",
      " 23  area_worst               569 non-null    float64\n",
      " 24  smoothness_worst         569 non-null    float64\n",
      " 25  compactness_worst        569 non-null    float64\n",
      " 26  concavity_worst          569 non-null    float64\n",
      " 27  concave points_worst     569 non-null    float64\n",
      " 28  symmetry_worst           569 non-null    float64\n",
      " 29  fractal_dimension_worst  569 non-null    float64\n",
      " 30  Unnamed: 32              0 non-null      float64\n",
      " 31  perimeter_area_mean      569 non-null    object \n",
      "dtypes: float64(28), int64(1), object(3)\n",
      "memory usage: 142.4+ KB\n"
     ]
    }
   ],
   "source": [
    "#FILL IN - Inspecting the dataframe programmatically\n",
    "df.info()"
   ]
  },
  {
   "cell_type": "markdown",
   "metadata": {},
   "source": [
    "Issue and justification: *Column \"Unnamed: 32\" points to missing or unclear metadata as it isnt filled with any data. This should be addressed by either assigning a proper name to the column or removing it if it is irrelevant to the dataset. In our case, since their is no data in it, the column will be removed in further cleaning step.*"
   ]
  },
  {
   "cell_type": "markdown",
   "metadata": {
    "id": "8Be77N4I1AmE"
   },
   "source": [
    "### Quality Issue 2:"
   ]
  },
  {
   "cell_type": "markdown",
   "metadata": {},
   "source": [
    "### Inconsistencies in Value Formatting in ''symmetry_mean''"
   ]
  },
  {
   "cell_type": "code",
   "execution_count": 9,
   "metadata": {},
   "outputs": [
    {
     "name": "stdout",
     "output_type": "stream",
     "text": [
      "Row 5 of the DataFrame:\n"
     ]
    },
    {
     "data": {
      "text/html": [
       "<div>\n",
       "<style scoped>\n",
       "    .dataframe tbody tr th:only-of-type {\n",
       "        vertical-align: middle;\n",
       "    }\n",
       "\n",
       "    .dataframe tbody tr th {\n",
       "        vertical-align: top;\n",
       "    }\n",
       "\n",
       "    .dataframe thead th {\n",
       "        text-align: right;\n",
       "    }\n",
       "</style>\n",
       "<table border=\"1\" class=\"dataframe\">\n",
       "  <thead>\n",
       "    <tr style=\"text-align: right;\">\n",
       "      <th></th>\n",
       "      <th>I_D</th>\n",
       "      <th>diagnosis</th>\n",
       "      <th>radius_mean</th>\n",
       "      <th>texture_mean</th>\n",
       "      <th>smoothness_mean</th>\n",
       "      <th>compactness_mean</th>\n",
       "      <th>concavity_mean</th>\n",
       "      <th>concave points_mean</th>\n",
       "      <th>symmetry_mean</th>\n",
       "      <th>fractal_dimension_mean</th>\n",
       "      <th>...</th>\n",
       "      <th>perimeter_worst</th>\n",
       "      <th>area_worst</th>\n",
       "      <th>smoothness_worst</th>\n",
       "      <th>compactness_worst</th>\n",
       "      <th>concavity_worst</th>\n",
       "      <th>concave points_worst</th>\n",
       "      <th>symmetry_worst</th>\n",
       "      <th>fractal_dimension_worst</th>\n",
       "      <th>Unnamed: 32</th>\n",
       "      <th>perimeter_area_mean</th>\n",
       "    </tr>\n",
       "  </thead>\n",
       "  <tbody>\n",
       "    <tr>\n",
       "      <th>5</th>\n",
       "      <td>843786</td>\n",
       "      <td>M</td>\n",
       "      <td>12.45</td>\n",
       "      <td>15.7</td>\n",
       "      <td>0.1278</td>\n",
       "      <td>0.17</td>\n",
       "      <td>0.1578</td>\n",
       "      <td>0.08089</td>\n",
       "      <td>one</td>\n",
       "      <td>0.07613</td>\n",
       "      <td>...</td>\n",
       "      <td>103.4</td>\n",
       "      <td>741.6</td>\n",
       "      <td>0.1791</td>\n",
       "      <td>0.5249</td>\n",
       "      <td>0.5355</td>\n",
       "      <td>0.1741</td>\n",
       "      <td>0.3985</td>\n",
       "      <td>0.1244</td>\n",
       "      <td>NaN</td>\n",
       "      <td>82.57-477.1</td>\n",
       "    </tr>\n",
       "  </tbody>\n",
       "</table>\n",
       "<p>1 rows × 32 columns</p>\n",
       "</div>"
      ],
      "text/plain": [
       "      I_D diagnosis radius_mean texture_mean smoothness_mean compactness_mean  \\\n",
       "5  843786         M       12.45         15.7          0.1278             0.17   \n",
       "\n",
       "  concavity_mean concave points_mean symmetry_mean fractal_dimension_mean  \\\n",
       "5         0.1578             0.08089           one                0.07613   \n",
       "\n",
       "   ... perimeter_worst area_worst smoothness_worst compactness_worst  \\\n",
       "5  ...           103.4      741.6           0.1791            0.5249   \n",
       "\n",
       "  concavity_worst concave points_worst symmetry_worst fractal_dimension_worst  \\\n",
       "5          0.5355               0.1741         0.3985                  0.1244   \n",
       "\n",
       "  Unnamed: 32 perimeter_area_mean  \n",
       "5         NaN         82.57-477.1  \n",
       "\n",
       "[1 rows x 32 columns]"
      ]
     },
     "execution_count": 9,
     "metadata": {},
     "output_type": "execute_result"
    }
   ],
   "source": [
    "#FILL IN - Inspecting the dataframe visually\n",
    "#Show row 5 of dataset\n",
    "row_five = df.iloc[5]\n",
    "row_five_df = pd.DataFrame(row_five).transpose()  # Transpose to display as a row\n",
    "print(\"Row 5 of the DataFrame:\")\n",
    "row_five_df\n"
   ]
  },
  {
   "cell_type": "code",
   "execution_count": 10,
   "metadata": {
    "id": "bnviRCUI-bb7"
   },
   "outputs": [
    {
     "name": "stdout",
     "output_type": "stream",
     "text": [
      "one\n"
     ]
    }
   ],
   "source": [
    "#FILL IN - Inspecting the dataframe programmatically\n",
    "symmetry_mean_value = df.loc[5, 'symmetry_mean']\n",
    "print(symmetry_mean_value)"
   ]
  },
  {
   "cell_type": "markdown",
   "metadata": {},
   "source": [
    "Issue and justification: *Row 5 in column 'symmetry_mean' has value one as a string isntead of Float. Solution is to format the number to float, then set the type for the column to float*"
   ]
  },
  {
   "cell_type": "markdown",
   "metadata": {},
   "source": [
    "### Quality Issue 3:"
   ]
  },
  {
   "cell_type": "markdown",
   "metadata": {},
   "source": [
    "### Naming Consistency"
   ]
  },
  {
   "cell_type": "code",
   "execution_count": 14,
   "metadata": {
    "id": "XUpeoqokw5Qt"
   },
   "outputs": [
    {
     "data": {
      "text/html": [
       "<div>\n",
       "<style scoped>\n",
       "    .dataframe tbody tr th:only-of-type {\n",
       "        vertical-align: middle;\n",
       "    }\n",
       "\n",
       "    .dataframe tbody tr th {\n",
       "        vertical-align: top;\n",
       "    }\n",
       "\n",
       "    .dataframe thead th {\n",
       "        text-align: right;\n",
       "    }\n",
       "</style>\n",
       "<table border=\"1\" class=\"dataframe\">\n",
       "  <thead>\n",
       "    <tr style=\"text-align: right;\">\n",
       "      <th></th>\n",
       "      <th>I_D</th>\n",
       "    </tr>\n",
       "  </thead>\n",
       "  <tbody>\n",
       "    <tr>\n",
       "      <th>0</th>\n",
       "      <td>842302</td>\n",
       "    </tr>\n",
       "    <tr>\n",
       "      <th>1</th>\n",
       "      <td>842517</td>\n",
       "    </tr>\n",
       "    <tr>\n",
       "      <th>2</th>\n",
       "      <td>84300903</td>\n",
       "    </tr>\n",
       "  </tbody>\n",
       "</table>\n",
       "</div>"
      ],
      "text/plain": [
       "        I_D\n",
       "0    842302\n",
       "1    842517\n",
       "2  84300903"
      ]
     },
     "execution_count": 14,
     "metadata": {},
     "output_type": "execute_result"
    }
   ],
   "source": [
    "#FILL IN - Inspecting the dataframe visually\n",
    "\n",
    "# Slice the DataFrame to select only the first column and first three rows\n",
    "subset_df = df.iloc[:3, [0]]  # Selecting first column and first 3 rows\n",
    "\n",
    "# Display the subset DataFrame (works best in Jupyter notebooks)\n",
    "subset_df\n"
   ]
  },
  {
   "cell_type": "code",
   "execution_count": 15,
   "metadata": {
    "id": "c8JK4DoXxtFA"
   },
   "outputs": [
    {
     "name": "stdout",
     "output_type": "stream",
     "text": [
      "The name of the first column is: I_D\n"
     ]
    }
   ],
   "source": [
    "#FILL IN - Inspecting the dataframe programmatically\n",
    "\n",
    "first_column_name = df.columns[0]\n",
    "print(\"The name of the first column is:\", first_column_name)"
   ]
  },
  {
   "cell_type": "markdown",
   "metadata": {},
   "source": [
    "Issue and justification: *Column 'I_D' is ambgious, and is not following the naming structure as the other columns, It should be renamed to 'id'*"
   ]
  },
  {
   "cell_type": "markdown",
   "metadata": {
    "id": "lXhGiYyiwwKN"
   },
   "source": [
    "### Tidiness Issue 1:"
   ]
  },
  {
   "cell_type": "markdown",
   "metadata": {},
   "source": [
    "### Merged Columns"
   ]
  },
  {
   "cell_type": "code",
   "execution_count": 12,
   "metadata": {
    "id": "fleC5rORI0Xl"
   },
   "outputs": [
    {
     "name": "stdout",
     "output_type": "stream",
     "text": [
      "First few values of the 'perimeter-area-mean' column:\n"
     ]
    },
    {
     "data": {
      "text/plain": [
       "0    122.8-1001.0\n",
       "1    132.9-1326.0\n",
       "2    130.0-1203.0\n",
       "3     77.58-386.1\n",
       "4    135.1-1297.0\n",
       "Name: perimeter_area_mean, dtype: object"
      ]
     },
     "execution_count": 12,
     "metadata": {},
     "output_type": "execute_result"
    }
   ],
   "source": [
    "#FILL IN - Inspecting the dataframe visually\n",
    "print(\"First few values of the 'perimeter-area-mean' column:\")\n",
    "df['perimeter_area_mean'].head()"
   ]
  },
  {
   "cell_type": "markdown",
   "metadata": {},
   "source": [
    "We notice that values are of the perimeter and area are splitted using a '-'"
   ]
  },
  {
   "cell_type": "code",
   "execution_count": 13,
   "metadata": {
    "id": "BTuQw7Rbsio4"
   },
   "outputs": [
    {
     "name": "stdout",
     "output_type": "stream",
     "text": [
      "<class 'pandas.core.frame.DataFrame'>\n",
      "RangeIndex: 569 entries, 0 to 568\n",
      "Data columns (total 32 columns):\n",
      " #   Column                   Non-Null Count  Dtype  \n",
      "---  ------                   --------------  -----  \n",
      " 0   I_D                      569 non-null    int64  \n",
      " 1   diagnosis                569 non-null    object \n",
      " 2   radius_mean              569 non-null    float64\n",
      " 3   texture_mean             569 non-null    float64\n",
      " 4   smoothness_mean          569 non-null    float64\n",
      " 5   compactness_mean         569 non-null    float64\n",
      " 6   concavity_mean           569 non-null    float64\n",
      " 7   concave points_mean      569 non-null    float64\n",
      " 8   symmetry_mean            569 non-null    object \n",
      " 9   fractal_dimension_mean   569 non-null    float64\n",
      " 10  radius_se                569 non-null    float64\n",
      " 11  texture_se               569 non-null    float64\n",
      " 12  perimeter_se             569 non-null    float64\n",
      " 13  area_se                  569 non-null    float64\n",
      " 14  smoothness_se            569 non-null    float64\n",
      " 15  compactness_se           569 non-null    float64\n",
      " 16  concavity_se             569 non-null    float64\n",
      " 17  concave points_se        569 non-null    float64\n",
      " 18  symmetry_se              569 non-null    float64\n",
      " 19  fractal_dimension_se     569 non-null    float64\n",
      " 20  radius_worst             569 non-null    float64\n",
      " 21  texture_worst            569 non-null    float64\n",
      " 22  perimeter_worst          569 non-null    float64\n",
      " 23  area_worst               569 non-null    float64\n",
      " 24  smoothness_worst         569 non-null    float64\n",
      " 25  compactness_worst        569 non-null    float64\n",
      " 26  concavity_worst          569 non-null    float64\n",
      " 27  concave points_worst     569 non-null    float64\n",
      " 28  symmetry_worst           569 non-null    float64\n",
      " 29  fractal_dimension_worst  569 non-null    float64\n",
      " 30  Unnamed: 32              0 non-null      float64\n",
      " 31  perimeter_area_mean      569 non-null    object \n",
      "dtypes: float64(28), int64(1), object(3)\n",
      "memory usage: 142.4+ KB\n"
     ]
    }
   ],
   "source": [
    "#FILL IN - Inspecting the dataframe programmatically\n",
    "df.info()"
   ]
  },
  {
   "cell_type": "markdown",
   "metadata": {},
   "source": [
    "Issue and justification: *Column 'perimeter-area-mean' should be splitted to two columns 'perimeter_mean' + 'area_mean'*"
   ]
  },
  {
   "cell_type": "markdown",
   "metadata": {
    "id": "4ffMoRGSwzYj"
   },
   "source": [
    "### Tidiness Issue 2: "
   ]
  },
  {
   "cell_type": "markdown",
   "metadata": {},
   "source": [
    "### Reintegrating Separated Columns Back into the Original Dataset"
   ]
  },
  {
   "cell_type": "code",
   "execution_count": 4,
   "metadata": {},
   "outputs": [
    {
     "data": {
      "text/html": [
       "<div>\n",
       "<style scoped>\n",
       "    .dataframe tbody tr th:only-of-type {\n",
       "        vertical-align: middle;\n",
       "    }\n",
       "\n",
       "    .dataframe tbody tr th {\n",
       "        vertical-align: top;\n",
       "    }\n",
       "\n",
       "    .dataframe thead th {\n",
       "        text-align: right;\n",
       "    }\n",
       "</style>\n",
       "<table border=\"1\" class=\"dataframe\">\n",
       "  <thead>\n",
       "    <tr style=\"text-align: right;\">\n",
       "      <th></th>\n",
       "      <th>area_worst</th>\n",
       "    </tr>\n",
       "  </thead>\n",
       "  <tbody>\n",
       "    <tr>\n",
       "      <th>0</th>\n",
       "      <td>2019.0</td>\n",
       "    </tr>\n",
       "    <tr>\n",
       "      <th>1</th>\n",
       "      <td>1956.0</td>\n",
       "    </tr>\n",
       "    <tr>\n",
       "      <th>2</th>\n",
       "      <td>1709.0</td>\n",
       "    </tr>\n",
       "    <tr>\n",
       "      <th>3</th>\n",
       "      <td>567.7</td>\n",
       "    </tr>\n",
       "    <tr>\n",
       "      <th>4</th>\n",
       "      <td>1575.0</td>\n",
       "    </tr>\n",
       "  </tbody>\n",
       "</table>\n",
       "</div>"
      ],
      "text/plain": [
       "   area_worst\n",
       "0      2019.0\n",
       "1      1956.0\n",
       "2      1709.0\n",
       "3       567.7\n",
       "4      1575.0"
      ]
     },
     "execution_count": 4,
     "metadata": {},
     "output_type": "execute_result"
    }
   ],
   "source": [
    "#FILL IN - Inspecting the dataframe visually\n",
    "#Read and show of columm\n",
    "area_worst = pd.read_csv('area_worst.csv')\n",
    "area_worst.head()"
   ]
  },
  {
   "cell_type": "code",
   "execution_count": 10,
   "metadata": {},
   "outputs": [
    {
     "name": "stdout",
     "output_type": "stream",
     "text": [
      "<class 'pandas.core.frame.DataFrame'>\n",
      "RangeIndex: 569 entries, 0 to 568\n",
      "Data columns (total 1 columns):\n",
      " #   Column      Non-Null Count  Dtype  \n",
      "---  ------      --------------  -----  \n",
      " 0   area_worst  569 non-null    float64\n",
      "dtypes: float64(1)\n",
      "memory usage: 4.6 KB\n"
     ]
    }
   ],
   "source": [
    "#FILL IN - Inspecting the dataframe programmatically\n",
    "area_worst.info()"
   ]
  },
  {
   "cell_type": "markdown",
   "metadata": {},
   "source": [
    "Issue and justification: *'area_worst' column has been separated into another dataset that should belong to the original data.csv dataset.*"
   ]
  },
  {
   "cell_type": "markdown",
   "metadata": {
    "id": "D6gmLnBttpCh"
   },
   "source": [
    "## 3. Clean data\n",
    "Clean the data to solve the 4 issues corresponding to data quality and tidiness found in the assessing step. **Make sure you include justifications for your cleaning decisions.**\n",
    "\n",
    "After the cleaning for each issue, please use **either** the visually or programatical method to validate the cleaning was succesful.\n",
    "\n",
    "At this stage, you are also expected to remove variables that are unnecessary for your analysis and combine your datasets. Depending on your datasets, you may choose to perform variable combination and elimination before or after the cleaning stage. Your dataset must have **at least** 4 variables after combining the data."
   ]
  },
  {
   "cell_type": "markdown",
   "metadata": {
    "id": "FmFhN52Yyn3l"
   },
   "source": [
    "### **Quality Issue 1: Drop Column \"Unnamed:32\"**"
   ]
  },
  {
   "cell_type": "code",
   "execution_count": 26,
   "metadata": {
    "id": "9UejDWrNMW4a"
   },
   "outputs": [
    {
     "name": "stdout",
     "output_type": "stream",
     "text": [
      "Column 'Unnamed: 32' has been dropped.\n"
     ]
    }
   ],
   "source": [
    "# FILL IN - Apply the cleaning strategy\n",
    "def drop_column(df, column_name):\n",
    "    if column_name in df.columns:\n",
    "        df.drop(columns=[column_name], inplace=True)\n",
    "        print(f\"Column '{column_name}' has been dropped.\")\n",
    "    else:\n",
    "        print(f\"Column '{column_name}' does not exist in the DataFrame.\")\n",
    "        \n",
    "# Drop the 'perimeter-area-mean' column\n",
    "drop_column(df, 'Unnamed: 32')"
   ]
  },
  {
   "cell_type": "markdown",
   "metadata": {},
   "source": [
    "Column 'Unnamed: 32' has been dropped."
   ]
  },
  {
   "cell_type": "code",
   "execution_count": 27,
   "metadata": {
    "id": "oUBee-LPytkv"
   },
   "outputs": [
    {
     "name": "stdout",
     "output_type": "stream",
     "text": [
      "Column 'Unnamed: 32' does not exist in the DataFrame.\n"
     ]
    }
   ],
   "source": [
    "# FILL IN - Validate the cleaning was successful\n",
    "\n",
    "# Function to check if a column exists in DataFrame\n",
    "def check_column_existence(df, column_name):\n",
    "    if column_name in df.columns:\n",
    "        print(f\"Column '{column_name}' exists in the DataFrame.\")\n",
    "    else:\n",
    "        print(f\"Column '{column_name}' does not exist in the DataFrame.\")\n",
    "\n",
    "# Check if 'perimeter-area-mean' column exists\n",
    "check_column_existence(df, 'Unnamed: 32')"
   ]
  },
  {
   "cell_type": "markdown",
   "metadata": {},
   "source": [
    "Justification: *No need for this column since its ambiquos and it has zero values*"
   ]
  },
  {
   "cell_type": "markdown",
   "metadata": {
    "id": "n_DAUbJrymBL"
   },
   "source": [
    "### **Quality Issue 2: Solve Inconsistencies in ''symmetry_mean''**"
   ]
  },
  {
   "cell_type": "code",
   "execution_count": 28,
   "metadata": {
    "id": "5Yfb-Yu5MTuE"
   },
   "outputs": [],
   "source": [
    "#FILL IN - Apply the cleaning strategy\n",
    "# Modify a specific cell in the DataFrame\n",
    "df.loc[5, 'symmetry_mean'] = '1'\n",
    "\n",
    "# Change the data type of the column 'symmetry_mean' to float\n",
    "df['symmetry_mean'] = df['symmetry_mean'].astype(float)"
   ]
  },
  {
   "cell_type": "code",
   "execution_count": 29,
   "metadata": {
    "id": "ionB2sRaMUmY"
   },
   "outputs": [
    {
     "name": "stdout",
     "output_type": "stream",
     "text": [
      "Row 5 of the DataFrame:\n",
      "I_D                             843786\n",
      "diagnosis                            M\n",
      "radius_mean                      12.45\n",
      "texture_mean                      15.7\n",
      "smoothness_mean                 0.1278\n",
      "compactness_mean                  0.17\n",
      "concavity_mean                  0.1578\n",
      "concave points_mean            0.08089\n",
      "symmetry_mean                      1.0\n",
      "fractal_dimension_mean         0.07613\n",
      "radius_se                       0.3345\n",
      "texture_se                      0.8902\n",
      "perimeter_se                     2.217\n",
      "area_se                          27.19\n",
      "smoothness_se                  0.00751\n",
      "compactness_se                 0.03345\n",
      "concavity_se                   0.03672\n",
      "concave points_se              0.01137\n",
      "symmetry_se                    0.02165\n",
      "fractal_dimension_se          0.005082\n",
      "radius_worst                     15.47\n",
      "texture_worst                    23.75\n",
      "perimeter_worst                  103.4\n",
      "area_worst                       741.6\n",
      "smoothness_worst                0.1791\n",
      "compactness_worst               0.5249\n",
      "concavity_worst                 0.5355\n",
      "concave points_worst            0.1741\n",
      "symmetry_worst                  0.3985\n",
      "fractal_dimension_worst         0.1244\n",
      "perimeter_area_mean        82.57-477.1\n",
      "Name: 5, dtype: object\n",
      "\n",
      "\n",
      "\n",
      "New Datatype for 'symmetry_mean':\n",
      "<class 'pandas.core.frame.DataFrame'>\n",
      "RangeIndex: 569 entries, 0 to 568\n",
      "Data columns (total 31 columns):\n",
      " #   Column                   Non-Null Count  Dtype  \n",
      "---  ------                   --------------  -----  \n",
      " 0   I_D                      569 non-null    int64  \n",
      " 1   diagnosis                569 non-null    object \n",
      " 2   radius_mean              569 non-null    float64\n",
      " 3   texture_mean             569 non-null    float64\n",
      " 4   smoothness_mean          569 non-null    float64\n",
      " 5   compactness_mean         569 non-null    float64\n",
      " 6   concavity_mean           569 non-null    float64\n",
      " 7   concave points_mean      569 non-null    float64\n",
      " 8   symmetry_mean            569 non-null    float64\n",
      " 9   fractal_dimension_mean   569 non-null    float64\n",
      " 10  radius_se                569 non-null    float64\n",
      " 11  texture_se               569 non-null    float64\n",
      " 12  perimeter_se             569 non-null    float64\n",
      " 13  area_se                  569 non-null    float64\n",
      " 14  smoothness_se            569 non-null    float64\n",
      " 15  compactness_se           569 non-null    float64\n",
      " 16  concavity_se             569 non-null    float64\n",
      " 17  concave points_se        569 non-null    float64\n",
      " 18  symmetry_se              569 non-null    float64\n",
      " 19  fractal_dimension_se     569 non-null    float64\n",
      " 20  radius_worst             569 non-null    float64\n",
      " 21  texture_worst            569 non-null    float64\n",
      " 22  perimeter_worst          569 non-null    float64\n",
      " 23  area_worst               569 non-null    float64\n",
      " 24  smoothness_worst         569 non-null    float64\n",
      " 25  compactness_worst        569 non-null    float64\n",
      " 26  concavity_worst          569 non-null    float64\n",
      " 27  concave points_worst     569 non-null    float64\n",
      " 28  symmetry_worst           569 non-null    float64\n",
      " 29  fractal_dimension_worst  569 non-null    float64\n",
      " 30  perimeter_area_mean      569 non-null    object \n",
      "dtypes: float64(28), int64(1), object(2)\n",
      "memory usage: 137.9+ KB\n"
     ]
    }
   ],
   "source": [
    "#FILL IN - Validate the cleaning was successful\n",
    "row_5 = df.iloc[5]\n",
    "\n",
    "print(\"Row 5 of the DataFrame:\")\n",
    "print(row_5)\n",
    "print(\"\") \n",
    "print(\"\") \n",
    "print(\"\") \n",
    "print(\"New Datatype for 'symmetry_mean':\")\n",
    "df.info()\n"
   ]
  },
  {
   "cell_type": "code",
   "execution_count": 30,
   "metadata": {},
   "outputs": [],
   "source": [
    "#Save column 'symmetry_mean' to new dataset\n",
    "id_column = df[['symmetry_mean']] \n",
    "id_column.to_csv('dataQ2.csv', index=False)"
   ]
  },
  {
   "cell_type": "code",
   "execution_count": 7,
   "metadata": {},
   "outputs": [
    {
     "data": {
      "text/html": [
       "<div>\n",
       "<style scoped>\n",
       "    .dataframe tbody tr th:only-of-type {\n",
       "        vertical-align: middle;\n",
       "    }\n",
       "\n",
       "    .dataframe tbody tr th {\n",
       "        vertical-align: top;\n",
       "    }\n",
       "\n",
       "    .dataframe thead th {\n",
       "        text-align: right;\n",
       "    }\n",
       "</style>\n",
       "<table border=\"1\" class=\"dataframe\">\n",
       "  <thead>\n",
       "    <tr style=\"text-align: right;\">\n",
       "      <th></th>\n",
       "      <th>symmetry_mean</th>\n",
       "    </tr>\n",
       "  </thead>\n",
       "  <tbody>\n",
       "    <tr>\n",
       "      <th>0</th>\n",
       "      <td>0.2419</td>\n",
       "    </tr>\n",
       "    <tr>\n",
       "      <th>1</th>\n",
       "      <td>0.1812</td>\n",
       "    </tr>\n",
       "    <tr>\n",
       "      <th>2</th>\n",
       "      <td>0.2069</td>\n",
       "    </tr>\n",
       "    <tr>\n",
       "      <th>3</th>\n",
       "      <td>0.2597</td>\n",
       "    </tr>\n",
       "    <tr>\n",
       "      <th>4</th>\n",
       "      <td>0.1809</td>\n",
       "    </tr>\n",
       "  </tbody>\n",
       "</table>\n",
       "</div>"
      ],
      "text/plain": [
       "   symmetry_mean\n",
       "0         0.2419\n",
       "1         0.1812\n",
       "2         0.2069\n",
       "3         0.2597\n",
       "4         0.1809"
      ]
     },
     "execution_count": 7,
     "metadata": {},
     "output_type": "execute_result"
    }
   ],
   "source": [
    "#Read new dataset\n",
    "dataQ2 = pd.read_csv('dataQ2.csv')\n",
    "dataQ2.head()"
   ]
  },
  {
   "cell_type": "markdown",
   "metadata": {},
   "source": [
    "Justification: *Now the datatype is float and the value is a float instead of a string*"
   ]
  },
  {
   "cell_type": "markdown",
   "metadata": {
    "id": "o51Bt8kwyTzk"
   },
   "source": [
    "### **Quality Issue 3: Rename I_D**"
   ]
  },
  {
   "cell_type": "code",
   "execution_count": 32,
   "metadata": {
    "id": "7zW8O5yx4Y9O"
   },
   "outputs": [],
   "source": [
    "#FILL IN - Apply the cleaning strategy\n",
    "df.rename(columns={'I_D': 'id'}, inplace=True)"
   ]
  },
  {
   "cell_type": "code",
   "execution_count": 33,
   "metadata": {
    "id": "q6I_Sr7lxXi5"
   },
   "outputs": [
    {
     "data": {
      "text/html": [
       "<div>\n",
       "<style scoped>\n",
       "    .dataframe tbody tr th:only-of-type {\n",
       "        vertical-align: middle;\n",
       "    }\n",
       "\n",
       "    .dataframe tbody tr th {\n",
       "        vertical-align: top;\n",
       "    }\n",
       "\n",
       "    .dataframe thead th {\n",
       "        text-align: right;\n",
       "    }\n",
       "</style>\n",
       "<table border=\"1\" class=\"dataframe\">\n",
       "  <thead>\n",
       "    <tr style=\"text-align: right;\">\n",
       "      <th></th>\n",
       "      <th>id</th>\n",
       "      <th>diagnosis</th>\n",
       "      <th>radius_mean</th>\n",
       "      <th>texture_mean</th>\n",
       "      <th>smoothness_mean</th>\n",
       "      <th>compactness_mean</th>\n",
       "      <th>concavity_mean</th>\n",
       "      <th>concave points_mean</th>\n",
       "      <th>symmetry_mean</th>\n",
       "      <th>fractal_dimension_mean</th>\n",
       "      <th>...</th>\n",
       "      <th>perimeter_worst</th>\n",
       "      <th>area_worst</th>\n",
       "      <th>smoothness_worst</th>\n",
       "      <th>compactness_worst</th>\n",
       "      <th>concavity_worst</th>\n",
       "      <th>concave points_worst</th>\n",
       "      <th>symmetry_worst</th>\n",
       "      <th>fractal_dimension_worst</th>\n",
       "      <th>perimeter-mean</th>\n",
       "      <th>area-mean</th>\n",
       "    </tr>\n",
       "  </thead>\n",
       "  <tbody>\n",
       "    <tr>\n",
       "      <th>0</th>\n",
       "      <td>842302</td>\n",
       "      <td>M</td>\n",
       "      <td>17.99</td>\n",
       "      <td>10.38</td>\n",
       "      <td>0.11840</td>\n",
       "      <td>0.27760</td>\n",
       "      <td>0.3001</td>\n",
       "      <td>0.14710</td>\n",
       "      <td>0.2419</td>\n",
       "      <td>0.07871</td>\n",
       "      <td>...</td>\n",
       "      <td>184.60</td>\n",
       "      <td>2019.0</td>\n",
       "      <td>0.1622</td>\n",
       "      <td>0.6656</td>\n",
       "      <td>0.7119</td>\n",
       "      <td>0.2654</td>\n",
       "      <td>0.4601</td>\n",
       "      <td>0.11890</td>\n",
       "      <td>122.80</td>\n",
       "      <td>1001.0</td>\n",
       "    </tr>\n",
       "    <tr>\n",
       "      <th>1</th>\n",
       "      <td>842517</td>\n",
       "      <td>M</td>\n",
       "      <td>20.57</td>\n",
       "      <td>17.77</td>\n",
       "      <td>0.08474</td>\n",
       "      <td>0.07864</td>\n",
       "      <td>0.0869</td>\n",
       "      <td>0.07017</td>\n",
       "      <td>0.1812</td>\n",
       "      <td>0.05667</td>\n",
       "      <td>...</td>\n",
       "      <td>158.80</td>\n",
       "      <td>1956.0</td>\n",
       "      <td>0.1238</td>\n",
       "      <td>0.1866</td>\n",
       "      <td>0.2416</td>\n",
       "      <td>0.1860</td>\n",
       "      <td>0.2750</td>\n",
       "      <td>0.08902</td>\n",
       "      <td>132.90</td>\n",
       "      <td>1326.0</td>\n",
       "    </tr>\n",
       "    <tr>\n",
       "      <th>2</th>\n",
       "      <td>84300903</td>\n",
       "      <td>M</td>\n",
       "      <td>19.69</td>\n",
       "      <td>21.25</td>\n",
       "      <td>0.10960</td>\n",
       "      <td>0.15990</td>\n",
       "      <td>0.1974</td>\n",
       "      <td>0.12790</td>\n",
       "      <td>0.2069</td>\n",
       "      <td>0.05999</td>\n",
       "      <td>...</td>\n",
       "      <td>152.50</td>\n",
       "      <td>1709.0</td>\n",
       "      <td>0.1444</td>\n",
       "      <td>0.4245</td>\n",
       "      <td>0.4504</td>\n",
       "      <td>0.2430</td>\n",
       "      <td>0.3613</td>\n",
       "      <td>0.08758</td>\n",
       "      <td>130.00</td>\n",
       "      <td>1203.0</td>\n",
       "    </tr>\n",
       "    <tr>\n",
       "      <th>3</th>\n",
       "      <td>84348301</td>\n",
       "      <td>M</td>\n",
       "      <td>11.42</td>\n",
       "      <td>20.38</td>\n",
       "      <td>0.14250</td>\n",
       "      <td>0.28390</td>\n",
       "      <td>0.2414</td>\n",
       "      <td>0.10520</td>\n",
       "      <td>0.2597</td>\n",
       "      <td>0.09744</td>\n",
       "      <td>...</td>\n",
       "      <td>98.87</td>\n",
       "      <td>567.7</td>\n",
       "      <td>0.2098</td>\n",
       "      <td>0.8663</td>\n",
       "      <td>0.6869</td>\n",
       "      <td>0.2575</td>\n",
       "      <td>0.6638</td>\n",
       "      <td>0.17300</td>\n",
       "      <td>77.58</td>\n",
       "      <td>386.1</td>\n",
       "    </tr>\n",
       "    <tr>\n",
       "      <th>4</th>\n",
       "      <td>84358402</td>\n",
       "      <td>M</td>\n",
       "      <td>20.29</td>\n",
       "      <td>14.34</td>\n",
       "      <td>0.10030</td>\n",
       "      <td>0.13280</td>\n",
       "      <td>0.1980</td>\n",
       "      <td>0.10430</td>\n",
       "      <td>0.1809</td>\n",
       "      <td>0.05883</td>\n",
       "      <td>...</td>\n",
       "      <td>152.20</td>\n",
       "      <td>1575.0</td>\n",
       "      <td>0.1374</td>\n",
       "      <td>0.2050</td>\n",
       "      <td>0.4000</td>\n",
       "      <td>0.1625</td>\n",
       "      <td>0.2364</td>\n",
       "      <td>0.07678</td>\n",
       "      <td>135.10</td>\n",
       "      <td>1297.0</td>\n",
       "    </tr>\n",
       "  </tbody>\n",
       "</table>\n",
       "<p>5 rows × 32 columns</p>\n",
       "</div>"
      ],
      "text/plain": [
       "         id diagnosis  radius_mean  texture_mean  smoothness_mean  \\\n",
       "0    842302         M        17.99         10.38          0.11840   \n",
       "1    842517         M        20.57         17.77          0.08474   \n",
       "2  84300903         M        19.69         21.25          0.10960   \n",
       "3  84348301         M        11.42         20.38          0.14250   \n",
       "4  84358402         M        20.29         14.34          0.10030   \n",
       "\n",
       "   compactness_mean  concavity_mean  concave points_mean  symmetry_mean  \\\n",
       "0           0.27760          0.3001              0.14710         0.2419   \n",
       "1           0.07864          0.0869              0.07017         0.1812   \n",
       "2           0.15990          0.1974              0.12790         0.2069   \n",
       "3           0.28390          0.2414              0.10520         0.2597   \n",
       "4           0.13280          0.1980              0.10430         0.1809   \n",
       "\n",
       "   fractal_dimension_mean  ...  perimeter_worst  area_worst  smoothness_worst  \\\n",
       "0                 0.07871  ...           184.60      2019.0            0.1622   \n",
       "1                 0.05667  ...           158.80      1956.0            0.1238   \n",
       "2                 0.05999  ...           152.50      1709.0            0.1444   \n",
       "3                 0.09744  ...            98.87       567.7            0.2098   \n",
       "4                 0.05883  ...           152.20      1575.0            0.1374   \n",
       "\n",
       "   compactness_worst  concavity_worst  concave points_worst  symmetry_worst  \\\n",
       "0             0.6656           0.7119                0.2654          0.4601   \n",
       "1             0.1866           0.2416                0.1860          0.2750   \n",
       "2             0.4245           0.4504                0.2430          0.3613   \n",
       "3             0.8663           0.6869                0.2575          0.6638   \n",
       "4             0.2050           0.4000                0.1625          0.2364   \n",
       "\n",
       "   fractal_dimension_worst  perimeter-mean  area-mean  \n",
       "0                  0.11890          122.80     1001.0  \n",
       "1                  0.08902          132.90     1326.0  \n",
       "2                  0.08758          130.00     1203.0  \n",
       "3                  0.17300           77.58      386.1  \n",
       "4                  0.07678          135.10     1297.0  \n",
       "\n",
       "[5 rows x 32 columns]"
      ]
     },
     "execution_count": 33,
     "metadata": {},
     "output_type": "execute_result"
    }
   ],
   "source": [
    "#FILL IN - Validate the cleaning was successful\n",
    "df.head()"
   ]
  },
  {
   "cell_type": "code",
   "execution_count": 14,
   "metadata": {},
   "outputs": [],
   "source": [
    "#Save 'id' to dataQ3.csv\n",
    "id_column = df[['id']] \n",
    "id_column.to_csv('dataQ3.csv', index=False)"
   ]
  },
  {
   "cell_type": "code",
   "execution_count": 15,
   "metadata": {},
   "outputs": [
    {
     "data": {
      "text/html": [
       "<div>\n",
       "<style scoped>\n",
       "    .dataframe tbody tr th:only-of-type {\n",
       "        vertical-align: middle;\n",
       "    }\n",
       "\n",
       "    .dataframe tbody tr th {\n",
       "        vertical-align: top;\n",
       "    }\n",
       "\n",
       "    .dataframe thead th {\n",
       "        text-align: right;\n",
       "    }\n",
       "</style>\n",
       "<table border=\"1\" class=\"dataframe\">\n",
       "  <thead>\n",
       "    <tr style=\"text-align: right;\">\n",
       "      <th></th>\n",
       "      <th>id</th>\n",
       "    </tr>\n",
       "  </thead>\n",
       "  <tbody>\n",
       "    <tr>\n",
       "      <th>0</th>\n",
       "      <td>842302</td>\n",
       "    </tr>\n",
       "    <tr>\n",
       "      <th>1</th>\n",
       "      <td>842517</td>\n",
       "    </tr>\n",
       "    <tr>\n",
       "      <th>2</th>\n",
       "      <td>84300903</td>\n",
       "    </tr>\n",
       "    <tr>\n",
       "      <th>3</th>\n",
       "      <td>84348301</td>\n",
       "    </tr>\n",
       "    <tr>\n",
       "      <th>4</th>\n",
       "      <td>84358402</td>\n",
       "    </tr>\n",
       "  </tbody>\n",
       "</table>\n",
       "</div>"
      ],
      "text/plain": [
       "         id\n",
       "0    842302\n",
       "1    842517\n",
       "2  84300903\n",
       "3  84348301\n",
       "4  84358402"
      ]
     },
     "execution_count": 15,
     "metadata": {},
     "output_type": "execute_result"
    }
   ],
   "source": [
    "#Read new dataset\n",
    "dataQ3 = pd.read_csv('dataQ3.csv')\n",
    "dataQ3.head()"
   ]
  },
  {
   "cell_type": "markdown",
   "metadata": {},
   "source": [
    "Justification: *Rename of column I_D to make it consistent with other columns*"
   ]
  },
  {
   "cell_type": "markdown",
   "metadata": {
    "id": "bIUrrfSNyOPR"
   },
   "source": [
    "### **Tidiness Issue 1: Split 'perimeter-area-mean'**"
   ]
  },
  {
   "cell_type": "code",
   "execution_count": 31,
   "metadata": {
    "id": "fib0zAm333bn"
   },
   "outputs": [],
   "source": [
    "#FILL IN - Apply the cleaning strategy\n",
    "\n",
    "# Split 'perimeter-area-mean' column by '-' and expand into separate columns\n",
    "split_cols = df['perimeter_area_mean'].str.split('-', expand=True)\n",
    "\n",
    "# Rename the columns to more descriptive names\n",
    "split_cols.columns = ['perimeter-mean', 'area-mean']\n",
    "\n",
    "# Convert columns to float type\n",
    "split_cols = split_cols.astype(float)\n",
    "\n",
    "# Combine the split columns back into the original DataFrame\n",
    "df = pd.concat([df, split_cols], axis=1)\n",
    "\n",
    "# Drop the original 'perimeter-area-mean' column\n",
    "df.drop(columns=['perimeter_area_mean'], inplace=True)\n"
   ]
  },
  {
   "cell_type": "code",
   "execution_count": 9,
   "metadata": {
    "id": "yhrnUGY_Nk8B"
   },
   "outputs": [
    {
     "name": "stdout",
     "output_type": "stream",
     "text": [
      "          I_D diagnosis  radius_mean  texture_mean  smoothness_mean  \\\n",
      "0      842302         M        17.99         10.38          0.11840   \n",
      "1      842517         M        20.57         17.77          0.08474   \n",
      "2    84300903         M        19.69         21.25          0.10960   \n",
      "3    84348301         M        11.42         20.38          0.14250   \n",
      "4    84358402         M        20.29         14.34          0.10030   \n",
      "..        ...       ...          ...           ...              ...   \n",
      "564    926424         M        21.56         22.39          0.11100   \n",
      "565    926682         M        20.13         28.25          0.09780   \n",
      "566    926954         M        16.60         28.08          0.08455   \n",
      "567    927241         M        20.60         29.33          0.11780   \n",
      "568     92751         B         7.76         24.54          0.05263   \n",
      "\n",
      "     compactness_mean  concavity_mean  concave points_mean  symmetry_mean  \\\n",
      "0             0.27760         0.30010              0.14710         0.2419   \n",
      "1             0.07864         0.08690              0.07017         0.1812   \n",
      "2             0.15990         0.19740              0.12790         0.2069   \n",
      "3             0.28390         0.24140              0.10520         0.2597   \n",
      "4             0.13280         0.19800              0.10430         0.1809   \n",
      "..                ...             ...                  ...            ...   \n",
      "564           0.11590         0.24390              0.13890         0.1726   \n",
      "565           0.10340         0.14400              0.09791         0.1752   \n",
      "566           0.10230         0.09251              0.05302         0.1590   \n",
      "567           0.27700         0.35140              0.15200         0.2397   \n",
      "568           0.04362         0.00000              0.00000         0.1587   \n",
      "\n",
      "     fractal_dimension_mean  ...  perimeter_worst  area_worst  \\\n",
      "0                   0.07871  ...           184.60      2019.0   \n",
      "1                   0.05667  ...           158.80      1956.0   \n",
      "2                   0.05999  ...           152.50      1709.0   \n",
      "3                   0.09744  ...            98.87       567.7   \n",
      "4                   0.05883  ...           152.20      1575.0   \n",
      "..                      ...  ...              ...         ...   \n",
      "564                 0.05623  ...           166.10      2027.0   \n",
      "565                 0.05533  ...           155.00      1731.0   \n",
      "566                 0.05648  ...           126.70      1124.0   \n",
      "567                 0.07016  ...           184.60      1821.0   \n",
      "568                 0.05884  ...            59.16       268.6   \n",
      "\n",
      "     smoothness_worst  compactness_worst  concavity_worst  \\\n",
      "0             0.16220            0.66560           0.7119   \n",
      "1             0.12380            0.18660           0.2416   \n",
      "2             0.14440            0.42450           0.4504   \n",
      "3             0.20980            0.86630           0.6869   \n",
      "4             0.13740            0.20500           0.4000   \n",
      "..                ...                ...              ...   \n",
      "564           0.14100            0.21130           0.4107   \n",
      "565           0.11660            0.19220           0.3215   \n",
      "566           0.11390            0.30940           0.3403   \n",
      "567           0.16500            0.86810           0.9387   \n",
      "568           0.08996            0.06444           0.0000   \n",
      "\n",
      "     concave points_worst  symmetry_worst  fractal_dimension_worst  \\\n",
      "0                  0.2654          0.4601                  0.11890   \n",
      "1                  0.1860          0.2750                  0.08902   \n",
      "2                  0.2430          0.3613                  0.08758   \n",
      "3                  0.2575          0.6638                  0.17300   \n",
      "4                  0.1625          0.2364                  0.07678   \n",
      "..                    ...             ...                      ...   \n",
      "564                0.2216          0.2060                  0.07115   \n",
      "565                0.1628          0.2572                  0.06637   \n",
      "566                0.1418          0.2218                  0.07820   \n",
      "567                0.2650          0.4087                  0.12400   \n",
      "568                0.0000          0.2871                  0.07039   \n",
      "\n",
      "     perimeter-mean  area-mean  \n",
      "0            122.80     1001.0  \n",
      "1            132.90     1326.0  \n",
      "2            130.00     1203.0  \n",
      "3             77.58      386.1  \n",
      "4            135.10     1297.0  \n",
      "..              ...        ...  \n",
      "564          142.00     1479.0  \n",
      "565          131.20     1261.0  \n",
      "566          108.30      858.1  \n",
      "567          140.10     1265.0  \n",
      "568           47.92      181.0  \n",
      "\n",
      "[569 rows x 32 columns]\n"
     ]
    }
   ],
   "source": [
    "#FILL IN - Validate the cleaning was successful\n",
    "print(df)"
   ]
  },
  {
   "cell_type": "markdown",
   "metadata": {},
   "source": [
    "New columns now are shown"
   ]
  },
  {
   "cell_type": "code",
   "execution_count": 10,
   "metadata": {},
   "outputs": [],
   "source": [
    "split_cols.to_csv('dataT1.csv', index=False)"
   ]
  },
  {
   "cell_type": "code",
   "execution_count": 11,
   "metadata": {},
   "outputs": [
    {
     "data": {
      "text/html": [
       "<div>\n",
       "<style scoped>\n",
       "    .dataframe tbody tr th:only-of-type {\n",
       "        vertical-align: middle;\n",
       "    }\n",
       "\n",
       "    .dataframe tbody tr th {\n",
       "        vertical-align: top;\n",
       "    }\n",
       "\n",
       "    .dataframe thead th {\n",
       "        text-align: right;\n",
       "    }\n",
       "</style>\n",
       "<table border=\"1\" class=\"dataframe\">\n",
       "  <thead>\n",
       "    <tr style=\"text-align: right;\">\n",
       "      <th></th>\n",
       "      <th>perimeter-mean</th>\n",
       "      <th>area-mean</th>\n",
       "    </tr>\n",
       "  </thead>\n",
       "  <tbody>\n",
       "    <tr>\n",
       "      <th>0</th>\n",
       "      <td>122.80</td>\n",
       "      <td>1001.0</td>\n",
       "    </tr>\n",
       "    <tr>\n",
       "      <th>1</th>\n",
       "      <td>132.90</td>\n",
       "      <td>1326.0</td>\n",
       "    </tr>\n",
       "    <tr>\n",
       "      <th>2</th>\n",
       "      <td>130.00</td>\n",
       "      <td>1203.0</td>\n",
       "    </tr>\n",
       "    <tr>\n",
       "      <th>3</th>\n",
       "      <td>77.58</td>\n",
       "      <td>386.1</td>\n",
       "    </tr>\n",
       "    <tr>\n",
       "      <th>4</th>\n",
       "      <td>135.10</td>\n",
       "      <td>1297.0</td>\n",
       "    </tr>\n",
       "  </tbody>\n",
       "</table>\n",
       "</div>"
      ],
      "text/plain": [
       "   perimeter-mean  area-mean\n",
       "0          122.80     1001.0\n",
       "1          132.90     1326.0\n",
       "2          130.00     1203.0\n",
       "3           77.58      386.1\n",
       "4          135.10     1297.0"
      ]
     },
     "execution_count": 11,
     "metadata": {},
     "output_type": "execute_result"
    }
   ],
   "source": [
    "#Read new dataset\n",
    "dataT1 = pd.read_csv('dataT1.csv')\n",
    "dataT1.head()"
   ]
  },
  {
   "cell_type": "markdown",
   "metadata": {},
   "source": [
    "Justification: *Splitted to two new columns insted of them merged*"
   ]
  },
  {
   "cell_type": "markdown",
   "metadata": {},
   "source": [
    "### **Tidiness Issue 1: Integrate 'area_worst.csv'**"
   ]
  },
  {
   "cell_type": "code",
   "execution_count": 5,
   "metadata": {},
   "outputs": [],
   "source": [
    "#FILL IN - Apply the cleaning strategy\n",
    "#Append column to original dataset\n",
    "df['area_worst'] = area_worst['area_worst']\n"
   ]
  },
  {
   "cell_type": "code",
   "execution_count": 6,
   "metadata": {},
   "outputs": [
    {
     "name": "stdout",
     "output_type": "stream",
     "text": [
      "<class 'pandas.core.frame.DataFrame'>\n",
      "RangeIndex: 569 entries, 0 to 568\n",
      "Data columns (total 32 columns):\n",
      " #   Column                   Non-Null Count  Dtype  \n",
      "---  ------                   --------------  -----  \n",
      " 0   I_D                      569 non-null    int64  \n",
      " 1   diagnosis                569 non-null    object \n",
      " 2   radius_mean              569 non-null    float64\n",
      " 3   texture_mean             569 non-null    float64\n",
      " 4   smoothness_mean          569 non-null    float64\n",
      " 5   compactness_mean         569 non-null    float64\n",
      " 6   concavity_mean           569 non-null    float64\n",
      " 7   concave points_mean      569 non-null    float64\n",
      " 8   symmetry_mean            569 non-null    object \n",
      " 9   fractal_dimension_mean   569 non-null    float64\n",
      " 10  radius_se                569 non-null    float64\n",
      " 11  texture_se               569 non-null    float64\n",
      " 12  perimeter_se             569 non-null    float64\n",
      " 13  area_se                  569 non-null    float64\n",
      " 14  smoothness_se            569 non-null    float64\n",
      " 15  compactness_se           569 non-null    float64\n",
      " 16  concavity_se             569 non-null    float64\n",
      " 17  concave points_se        569 non-null    float64\n",
      " 18  symmetry_se              569 non-null    float64\n",
      " 19  fractal_dimension_se     569 non-null    float64\n",
      " 20  radius_worst             569 non-null    float64\n",
      " 21  texture_worst            569 non-null    float64\n",
      " 22  perimeter_worst          569 non-null    float64\n",
      " 23  smoothness_worst         569 non-null    float64\n",
      " 24  compactness_worst        569 non-null    float64\n",
      " 25  concavity_worst          569 non-null    float64\n",
      " 26  concave points_worst     569 non-null    float64\n",
      " 27  symmetry_worst           569 non-null    float64\n",
      " 28  fractal_dimension_worst  569 non-null    float64\n",
      " 29  Unnamed: 32              0 non-null      float64\n",
      " 30  perimeter_area_mean      569 non-null    object \n",
      " 31  area_worst               569 non-null    float64\n",
      "dtypes: float64(28), int64(1), object(3)\n",
      "memory usage: 142.4+ KB\n"
     ]
    }
   ],
   "source": [
    "#FILL IN - Validate the cleaning was successful\n",
    "df.info()"
   ]
  },
  {
   "cell_type": "markdown",
   "metadata": {},
   "source": [
    "### **Remove unnecessary variables and combine datasets**\n",
    "\n",
    "Depending on the datasets, you can also peform the combination before the cleaning steps."
   ]
  },
  {
   "cell_type": "markdown",
   "metadata": {},
   "source": [
    "In this step, i will berfor concat for the three new dataset that contains new versions of data and columns."
   ]
  },
  {
   "cell_type": "code",
   "execution_count": 11,
   "metadata": {},
   "outputs": [
    {
     "name": "stdout",
     "output_type": "stream",
     "text": [
      "Shape of cleaned_data: (569, 5)\n",
      "Combined data saved to 'cleaned_data.csv'\n"
     ]
    }
   ],
   "source": [
    "#Combining time - Remove unnecessary variables and combine datasets\n",
    "\n",
    "# List of file paths for your datasets\n",
    "file_paths = ['dataT1.csv', 'dataT2.csv', 'dataQ2.csv', 'area_worst.csv']\n",
    "\n",
    "# Initialize an empty list to store DataFrames\n",
    "dfs = []\n",
    "\n",
    "# Load each dataset and append to the list of DataFrames\n",
    "for file_path in file_paths:\n",
    "    df = pd.read_csv(file_path)\n",
    "    dfs.append(df)\n",
    "\n",
    "# Concatenate all DataFrames vertically\n",
    "cleaned_data = pd.concat(dfs, axis=1)\n",
    "\n",
    "# Display the shape of the resulting DataFrame to verify\n",
    "print(\"Shape of cleaned_data:\", cleaned_data.shape)\n",
    "\n",
    "# Save the concatenated DataFrame to a new CSV file\n",
    "cleaned_data.to_csv('cleaned_data.csv', index=False)\n",
    "print(\"Combined data saved to 'cleaned_data.csv'\")"
   ]
  },
  {
   "cell_type": "code",
   "execution_count": 12,
   "metadata": {},
   "outputs": [
    {
     "data": {
      "text/html": [
       "<div>\n",
       "<style scoped>\n",
       "    .dataframe tbody tr th:only-of-type {\n",
       "        vertical-align: middle;\n",
       "    }\n",
       "\n",
       "    .dataframe tbody tr th {\n",
       "        vertical-align: top;\n",
       "    }\n",
       "\n",
       "    .dataframe thead th {\n",
       "        text-align: right;\n",
       "    }\n",
       "</style>\n",
       "<table border=\"1\" class=\"dataframe\">\n",
       "  <thead>\n",
       "    <tr style=\"text-align: right;\">\n",
       "      <th></th>\n",
       "      <th>perimeter-mean</th>\n",
       "      <th>area-mean</th>\n",
       "      <th>id</th>\n",
       "      <th>symmetry_mean</th>\n",
       "      <th>area_worst</th>\n",
       "    </tr>\n",
       "  </thead>\n",
       "  <tbody>\n",
       "    <tr>\n",
       "      <th>0</th>\n",
       "      <td>122.80</td>\n",
       "      <td>1001.0</td>\n",
       "      <td>842302</td>\n",
       "      <td>0.2419</td>\n",
       "      <td>2019.0</td>\n",
       "    </tr>\n",
       "    <tr>\n",
       "      <th>1</th>\n",
       "      <td>132.90</td>\n",
       "      <td>1326.0</td>\n",
       "      <td>842517</td>\n",
       "      <td>0.1812</td>\n",
       "      <td>1956.0</td>\n",
       "    </tr>\n",
       "    <tr>\n",
       "      <th>2</th>\n",
       "      <td>130.00</td>\n",
       "      <td>1203.0</td>\n",
       "      <td>84300903</td>\n",
       "      <td>0.2069</td>\n",
       "      <td>1709.0</td>\n",
       "    </tr>\n",
       "    <tr>\n",
       "      <th>3</th>\n",
       "      <td>77.58</td>\n",
       "      <td>386.1</td>\n",
       "      <td>84348301</td>\n",
       "      <td>0.2597</td>\n",
       "      <td>567.7</td>\n",
       "    </tr>\n",
       "    <tr>\n",
       "      <th>4</th>\n",
       "      <td>135.10</td>\n",
       "      <td>1297.0</td>\n",
       "      <td>84358402</td>\n",
       "      <td>0.1809</td>\n",
       "      <td>1575.0</td>\n",
       "    </tr>\n",
       "    <tr>\n",
       "      <th>...</th>\n",
       "      <td>...</td>\n",
       "      <td>...</td>\n",
       "      <td>...</td>\n",
       "      <td>...</td>\n",
       "      <td>...</td>\n",
       "    </tr>\n",
       "    <tr>\n",
       "      <th>564</th>\n",
       "      <td>142.00</td>\n",
       "      <td>1479.0</td>\n",
       "      <td>926424</td>\n",
       "      <td>0.1726</td>\n",
       "      <td>2027.0</td>\n",
       "    </tr>\n",
       "    <tr>\n",
       "      <th>565</th>\n",
       "      <td>131.20</td>\n",
       "      <td>1261.0</td>\n",
       "      <td>926682</td>\n",
       "      <td>0.1752</td>\n",
       "      <td>1731.0</td>\n",
       "    </tr>\n",
       "    <tr>\n",
       "      <th>566</th>\n",
       "      <td>108.30</td>\n",
       "      <td>858.1</td>\n",
       "      <td>926954</td>\n",
       "      <td>0.1590</td>\n",
       "      <td>1124.0</td>\n",
       "    </tr>\n",
       "    <tr>\n",
       "      <th>567</th>\n",
       "      <td>140.10</td>\n",
       "      <td>1265.0</td>\n",
       "      <td>927241</td>\n",
       "      <td>0.2397</td>\n",
       "      <td>1821.0</td>\n",
       "    </tr>\n",
       "    <tr>\n",
       "      <th>568</th>\n",
       "      <td>47.92</td>\n",
       "      <td>181.0</td>\n",
       "      <td>92751</td>\n",
       "      <td>0.1587</td>\n",
       "      <td>268.6</td>\n",
       "    </tr>\n",
       "  </tbody>\n",
       "</table>\n",
       "<p>569 rows × 5 columns</p>\n",
       "</div>"
      ],
      "text/plain": [
       "     perimeter-mean  area-mean        id  symmetry_mean  area_worst\n",
       "0            122.80     1001.0    842302         0.2419      2019.0\n",
       "1            132.90     1326.0    842517         0.1812      1956.0\n",
       "2            130.00     1203.0  84300903         0.2069      1709.0\n",
       "3             77.58      386.1  84348301         0.2597       567.7\n",
       "4            135.10     1297.0  84358402         0.1809      1575.0\n",
       "..              ...        ...       ...            ...         ...\n",
       "564          142.00     1479.0    926424         0.1726      2027.0\n",
       "565          131.20     1261.0    926682         0.1752      1731.0\n",
       "566          108.30      858.1    926954         0.1590      1124.0\n",
       "567          140.10     1265.0    927241         0.2397      1821.0\n",
       "568           47.92      181.0     92751         0.1587       268.6\n",
       "\n",
       "[569 rows x 5 columns]"
      ]
     },
     "execution_count": 12,
     "metadata": {},
     "output_type": "execute_result"
    }
   ],
   "source": [
    "pd.read_csv('cleaned_data.csv')"
   ]
  },
  {
   "cell_type": "markdown",
   "metadata": {
    "id": "F42urHuzttjF"
   },
   "source": [
    "## 4. Update your data store\n",
    "Update your local database/data store with the cleaned data, following best practices for storing your cleaned data:\n",
    "\n",
    "- Must maintain different instances / versions of data (raw and cleaned data)\n",
    "- Must name the dataset files informatively\n",
    "- Ensure both the raw and cleaned data is saved to your database/data store"
   ]
  },
  {
   "cell_type": "code",
   "execution_count": 23,
   "metadata": {
    "id": "V3uay7EJUV_L"
   },
   "outputs": [
    {
     "name": "stdout",
     "output_type": "stream",
     "text": [
      "Updated data saved to 'dataV2.csv'\n"
     ]
    }
   ],
   "source": [
    "#FILL IN - saving data\n",
    "\n",
    "# Save the modified DataFrame to a new CSV file\n",
    "df.to_csv('dataV2.csv', index=False)\n",
    "\n",
    "print(\"Updated data saved to 'dataV2.csv'\")"
   ]
  },
  {
   "cell_type": "code",
   "execution_count": 39,
   "metadata": {},
   "outputs": [
    {
     "data": {
      "text/html": [
       "<div>\n",
       "<style scoped>\n",
       "    .dataframe tbody tr th:only-of-type {\n",
       "        vertical-align: middle;\n",
       "    }\n",
       "\n",
       "    .dataframe tbody tr th {\n",
       "        vertical-align: top;\n",
       "    }\n",
       "\n",
       "    .dataframe thead th {\n",
       "        text-align: right;\n",
       "    }\n",
       "</style>\n",
       "<table border=\"1\" class=\"dataframe\">\n",
       "  <thead>\n",
       "    <tr style=\"text-align: right;\">\n",
       "      <th></th>\n",
       "      <th>id</th>\n",
       "      <th>diagnosis</th>\n",
       "      <th>radius_mean</th>\n",
       "      <th>texture_mean</th>\n",
       "      <th>smoothness_mean</th>\n",
       "      <th>compactness_mean</th>\n",
       "      <th>concavity_mean</th>\n",
       "      <th>concave points_mean</th>\n",
       "      <th>symmetry_mean</th>\n",
       "      <th>fractal_dimension_mean</th>\n",
       "      <th>...</th>\n",
       "      <th>perimeter_worst</th>\n",
       "      <th>area_worst</th>\n",
       "      <th>smoothness_worst</th>\n",
       "      <th>compactness_worst</th>\n",
       "      <th>concavity_worst</th>\n",
       "      <th>concave points_worst</th>\n",
       "      <th>symmetry_worst</th>\n",
       "      <th>fractal_dimension_worst</th>\n",
       "      <th>perimeter-mean</th>\n",
       "      <th>area-mean</th>\n",
       "    </tr>\n",
       "  </thead>\n",
       "  <tbody>\n",
       "    <tr>\n",
       "      <th>0</th>\n",
       "      <td>842302</td>\n",
       "      <td>M</td>\n",
       "      <td>17.99</td>\n",
       "      <td>10.38</td>\n",
       "      <td>0.11840</td>\n",
       "      <td>0.27760</td>\n",
       "      <td>0.3001</td>\n",
       "      <td>0.14710</td>\n",
       "      <td>0.2419</td>\n",
       "      <td>0.07871</td>\n",
       "      <td>...</td>\n",
       "      <td>184.60</td>\n",
       "      <td>2019.0</td>\n",
       "      <td>0.1622</td>\n",
       "      <td>0.6656</td>\n",
       "      <td>0.7119</td>\n",
       "      <td>0.2654</td>\n",
       "      <td>0.4601</td>\n",
       "      <td>0.11890</td>\n",
       "      <td>122.80</td>\n",
       "      <td>1001.0</td>\n",
       "    </tr>\n",
       "    <tr>\n",
       "      <th>1</th>\n",
       "      <td>842517</td>\n",
       "      <td>M</td>\n",
       "      <td>20.57</td>\n",
       "      <td>17.77</td>\n",
       "      <td>0.08474</td>\n",
       "      <td>0.07864</td>\n",
       "      <td>0.0869</td>\n",
       "      <td>0.07017</td>\n",
       "      <td>0.1812</td>\n",
       "      <td>0.05667</td>\n",
       "      <td>...</td>\n",
       "      <td>158.80</td>\n",
       "      <td>1956.0</td>\n",
       "      <td>0.1238</td>\n",
       "      <td>0.1866</td>\n",
       "      <td>0.2416</td>\n",
       "      <td>0.1860</td>\n",
       "      <td>0.2750</td>\n",
       "      <td>0.08902</td>\n",
       "      <td>132.90</td>\n",
       "      <td>1326.0</td>\n",
       "    </tr>\n",
       "    <tr>\n",
       "      <th>2</th>\n",
       "      <td>84300903</td>\n",
       "      <td>M</td>\n",
       "      <td>19.69</td>\n",
       "      <td>21.25</td>\n",
       "      <td>0.10960</td>\n",
       "      <td>0.15990</td>\n",
       "      <td>0.1974</td>\n",
       "      <td>0.12790</td>\n",
       "      <td>0.2069</td>\n",
       "      <td>0.05999</td>\n",
       "      <td>...</td>\n",
       "      <td>152.50</td>\n",
       "      <td>1709.0</td>\n",
       "      <td>0.1444</td>\n",
       "      <td>0.4245</td>\n",
       "      <td>0.4504</td>\n",
       "      <td>0.2430</td>\n",
       "      <td>0.3613</td>\n",
       "      <td>0.08758</td>\n",
       "      <td>130.00</td>\n",
       "      <td>1203.0</td>\n",
       "    </tr>\n",
       "    <tr>\n",
       "      <th>3</th>\n",
       "      <td>84348301</td>\n",
       "      <td>M</td>\n",
       "      <td>11.42</td>\n",
       "      <td>20.38</td>\n",
       "      <td>0.14250</td>\n",
       "      <td>0.28390</td>\n",
       "      <td>0.2414</td>\n",
       "      <td>0.10520</td>\n",
       "      <td>0.2597</td>\n",
       "      <td>0.09744</td>\n",
       "      <td>...</td>\n",
       "      <td>98.87</td>\n",
       "      <td>567.7</td>\n",
       "      <td>0.2098</td>\n",
       "      <td>0.8663</td>\n",
       "      <td>0.6869</td>\n",
       "      <td>0.2575</td>\n",
       "      <td>0.6638</td>\n",
       "      <td>0.17300</td>\n",
       "      <td>77.58</td>\n",
       "      <td>386.1</td>\n",
       "    </tr>\n",
       "    <tr>\n",
       "      <th>4</th>\n",
       "      <td>84358402</td>\n",
       "      <td>M</td>\n",
       "      <td>20.29</td>\n",
       "      <td>14.34</td>\n",
       "      <td>0.10030</td>\n",
       "      <td>0.13280</td>\n",
       "      <td>0.1980</td>\n",
       "      <td>0.10430</td>\n",
       "      <td>0.1809</td>\n",
       "      <td>0.05883</td>\n",
       "      <td>...</td>\n",
       "      <td>152.20</td>\n",
       "      <td>1575.0</td>\n",
       "      <td>0.1374</td>\n",
       "      <td>0.2050</td>\n",
       "      <td>0.4000</td>\n",
       "      <td>0.1625</td>\n",
       "      <td>0.2364</td>\n",
       "      <td>0.07678</td>\n",
       "      <td>135.10</td>\n",
       "      <td>1297.0</td>\n",
       "    </tr>\n",
       "  </tbody>\n",
       "</table>\n",
       "<p>5 rows × 32 columns</p>\n",
       "</div>"
      ],
      "text/plain": [
       "         id diagnosis  radius_mean  texture_mean  smoothness_mean  \\\n",
       "0    842302         M        17.99         10.38          0.11840   \n",
       "1    842517         M        20.57         17.77          0.08474   \n",
       "2  84300903         M        19.69         21.25          0.10960   \n",
       "3  84348301         M        11.42         20.38          0.14250   \n",
       "4  84358402         M        20.29         14.34          0.10030   \n",
       "\n",
       "   compactness_mean  concavity_mean  concave points_mean  symmetry_mean  \\\n",
       "0           0.27760          0.3001              0.14710         0.2419   \n",
       "1           0.07864          0.0869              0.07017         0.1812   \n",
       "2           0.15990          0.1974              0.12790         0.2069   \n",
       "3           0.28390          0.2414              0.10520         0.2597   \n",
       "4           0.13280          0.1980              0.10430         0.1809   \n",
       "\n",
       "   fractal_dimension_mean  ...  perimeter_worst  area_worst  smoothness_worst  \\\n",
       "0                 0.07871  ...           184.60      2019.0            0.1622   \n",
       "1                 0.05667  ...           158.80      1956.0            0.1238   \n",
       "2                 0.05999  ...           152.50      1709.0            0.1444   \n",
       "3                 0.09744  ...            98.87       567.7            0.2098   \n",
       "4                 0.05883  ...           152.20      1575.0            0.1374   \n",
       "\n",
       "   compactness_worst  concavity_worst  concave points_worst  symmetry_worst  \\\n",
       "0             0.6656           0.7119                0.2654          0.4601   \n",
       "1             0.1866           0.2416                0.1860          0.2750   \n",
       "2             0.4245           0.4504                0.2430          0.3613   \n",
       "3             0.8663           0.6869                0.2575          0.6638   \n",
       "4             0.2050           0.4000                0.1625          0.2364   \n",
       "\n",
       "   fractal_dimension_worst  perimeter-mean  area-mean  \n",
       "0                  0.11890          122.80     1001.0  \n",
       "1                  0.08902          132.90     1326.0  \n",
       "2                  0.08758          130.00     1203.0  \n",
       "3                  0.17300           77.58      386.1  \n",
       "4                  0.07678          135.10     1297.0  \n",
       "\n",
       "[5 rows x 32 columns]"
      ]
     },
     "execution_count": 39,
     "metadata": {},
     "output_type": "execute_result"
    }
   ],
   "source": [
    "#Read new dataset\n",
    "dataV2 = pd.read_csv('dataV2.csv')\n",
    "dataV2.head()"
   ]
  },
  {
   "cell_type": "markdown",
   "metadata": {
    "id": "cGy_yddGtzhM"
   },
   "source": [
    "## 5. Answer the research question\n",
    "\n",
    "### **5.1:** How do the key features of breast tumors differ between malignant and benign cases based on the cleaned Breast Cancer Wisconsin (Diagnostic) Dataset? \n",
    "To answer the research question, we can analyze the cleaned dataset to understand the differences in tumor features between malignant and benign cases. "
   ]
  },
  {
   "cell_type": "code",
   "execution_count": 40,
   "metadata": {
    "id": "Lkw3rW9kZmOm"
   },
   "outputs": [
    {
     "data": {
      "image/png": "[encoded data removed]",
      "text/plain": [
       "<Figure size 1000x600 with 1 Axes>"
      ]
     },
     "metadata": {},
     "output_type": "display_data"
    }
   ],
   "source": [
    "#Visual 1 - Distribution of Tumor Radius\n",
    "\n",
    "plt.figure(figsize=(10, 6))\n",
    "plt.hist(dataV2[dataV2['diagnosis'] == 'B']['radius_mean'], bins=20, alpha=0.5, label='Benign', color='blue', density=True)\n",
    "\n",
    "# Plotting histogram for malignant tumors\n",
    "plt.hist(dataV2[dataV2['diagnosis'] == 'M']['radius_mean'], bins=20, alpha=0.5, label='Malignant', color='red', density=True)\n",
    "\n",
    "plt.title('Distribution of Tumor Radius by Diagnosis')\n",
    "plt.xlabel('Tumor Radius (mean)')\n",
    "plt.ylabel('Density')\n",
    "plt.legend()\n",
    "plt.show()"
   ]
  },
  {
   "cell_type": "markdown",
   "metadata": {},
   "source": [
    "*Answer to research question:* This histogram shows the distribution of mean tumor radius for benign and malignant tumors. It helps us visualize how tumor radius differs between the two diagnoses."
   ]
  },
  {
   "cell_type": "code",
   "execution_count": 41,
   "metadata": {
    "id": "6fdK_8ZGZm9R"
   },
   "outputs": [
    {
     "data": {
      "image/png": "[encoded data removed]",
      "text/plain": [
       "<Figure size 800x600 with 1 Axes>"
      ]
     },
     "metadata": {},
     "output_type": "display_data"
    }
   ],
   "source": [
    "#Visual 2 - Scatter Plot of Area vs. Perimeter\n",
    "\n",
    "plt.figure(figsize=(8, 6))\n",
    "plt.scatter(dataV2[dataV2['diagnosis'] == 'B']['area-mean'], dataV2[dataV2['diagnosis'] == 'B']['perimeter-mean'], label='Benign', color='blue')\n",
    "\n",
    "# Scatter plot for malignant tumors\n",
    "plt.scatter(dataV2[dataV2['diagnosis'] == 'M']['area-mean'], dataV2[dataV2['diagnosis'] == 'M']['perimeter-mean'], label='Malignant', color='red')\n",
    "\n",
    "plt.title('Scatter Plot of Tumor Area vs. Perimeter by Diagnosis')\n",
    "plt.xlabel('Tumor Area (mean)')\n",
    "plt.ylabel('Tumor Perimeter (mean)')\n",
    "plt.legend()\n",
    "plt.show()"
   ]
  },
  {
   "cell_type": "markdown",
   "metadata": {
    "id": "K5RgvMGUZoHn"
   },
   "source": [
    "*Answer to research question:* This scatter plot helps us visualize the relationship between tumor area and perimeter, colored by diagnosis (benign or malignant). It can reveal any patterns or clusters that differentiate the two classes."
   ]
  },
  {
   "cell_type": "markdown",
   "metadata": {
    "id": "0ezWXXZVj-TP"
   },
   "source": [
    "### **5.2:** Reflection\n"
   ]
  },
  {
   "cell_type": "markdown",
   "metadata": {
    "id": "XB3RBDG5kFe1"
   },
   "source": [
    "If i had time i would have looked for two dataset that are simillar and made the cleaning for both of them and tried to combine the two different dataset, with the complexity that they dont have the same records length.\n",
    "\n",
    "I would have done as well some memory optimization, since the columns are using big data types and can be shrinked."
   ]
  }
 ],
 "metadata": {
  "colab": {
   "provenance": []
  },
  "kernelspec": {
   "display_name": "Python 3 (ipykernel)",
   "language": "python",
   "name": "python3"
  },
  "language_info": {
   "codemirror_mode": {
    "name": "ipython",
    "version": 3
   },
   "file_extension": ".py",
   "mimetype": "text/x-python",
   "name": "python",
   "nbconvert_exporter": "python",
   "pygments_lexer": "ipython3",
   "version": "3.10.11"
  }
 },
 "nbformat": 4,
 "nbformat_minor": 1
}
